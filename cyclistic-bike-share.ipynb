{
 "cells": [
  {
   "cell_type": "raw",
   "id": "fadaae28",
   "metadata": {
    "_cell_guid": "66305eae-1bb4-441e-a903-6940f16dd5ae",
    "_execution_state": "idle",
    "_uuid": "b5ca7b09-f912-4921-9659-0f210fc28df2",
    "papermill": {
     "duration": 0.037851,
     "end_time": "2021-10-12T18:12:30.873970",
     "exception": false,
     "start_time": "2021-10-12T18:12:30.836119",
     "status": "completed"
    },
    "tags": []
   },
   "source": []
  },
  {
   "attachments": {
    "e3a87646-c966-4526-b9cc-44f3eed43296.png": {
     "image/png": "[encoded data removed]"
    }
   },
   "cell_type": "markdown",
   "id": "90ad2938",
   "metadata": {
    "papermill": {
     "duration": 0.033734,
     "end_time": "2021-10-12T18:12:30.942724",
     "exception": false,
     "start_time": "2021-10-12T18:12:30.908990",
     "status": "completed"
    },
    "tags": []
   },
   "source": [
    "<a id=\"Introduction\"></a> <br>\n",
    "\n",
    "<h2>Introduction  </h2>\n",
    "\n",
    "\n",
    "\n",
    "\n",
    "\n",
    "\n",
    "![download.png](attachment:e3a87646-c966-4526-b9cc-44f3eed43296.png)  \n",
    " \n",
    "   \n",
    "\n",
    "\n",
    "This exploratory analysis case study is towards Capstone project requirement for Google Data Analytics Professional Certificate on **Cyclistic** (fictional company), a bike-share program based in Chicago. The program has over 5,800 bikes and 600 dock stations. The company’s marketing director is planning to maximize the number of Cyclistic members by creating marketing strategies to convert casual riders to annual member riders. Casual riders are customers that purchase single-ride or full-day passes. Cyclistic members are customers that purchase annual memberships. \n",
    "As a junior data analyst for Cyclistic, I was tasked to make data-driven recommendations for the marketing campaign.\n",
    "This project will be completed by using the 6 Data Analytics stages:\n",
    "\n",
    "**Ask**: Identify the business task and determine the key stakeholders.<br>\n",
    "**Prepare**: Collect the data, identify how it’s organized, determine the credibility of the data.<br>\n",
    "**Process**: Select the tool for data cleaning, check for errors and document the cleaning process.<br>\n",
    "**Analyze**: Organize and format the data, aggregate the data so that it’s useful, perform calculations and identify trends and relationships.<br>\n",
    "**Share**: Use design thinking principles and data-driven storytelling approach, present the findings with effective visualization. Ensure the analysis has answered the business task.<br>\n",
    "**Act**: Share the final conclusion and the recommendations.<br>\n",
    "<br>\n",
    "\n",
    "\n",
    "\n",
    "\n",
    "\n",
    "<h3>Business Objective</h3>\n",
    "Design marketing strategies aimed at converting casual riders into annual members. In order to do that, however, the marketing analyst team needs to better understand how annual members and casual riders differ, why casual riders would buy a membership, and how digital media could affect their marketing tactics.\n",
    "\n",
    "\n",
    "\n",
    "\n",
    "<h2> Ask </h2>\n",
    "\n",
    "**Business Task:**\n",
    "Recommend marketing strategies aimed at converting casual riders into annual members by better understanding how annual members and casual riders use Cyclistic bikes differently.\n",
    "    \n",
    "Questions that guide the future marketing program:\n",
    " - How do annual members and casual riders use Cyclistic bikes differently?\n",
    " - Why would casual riders buy Cyclistic annual memberships?\n",
    " - How can Cyclistic use digital media to influence casual riders to become members?\n",
    " \n",
    " \n",
    " **Deliverable**\n",
    " \n",
    " A clear statement of the business task\n",
    "- A description of all data sources used\n",
    "- Documentation of any cleaning or manipulation of data\n",
    "- A summary of your analysis\n",
    "- Supporting visualizations and key findings\n",
    "- Your top three recommendations based on your analysis\n",
    "  <br>\n",
    "  <br>\n",
    "\n",
    "    \n",
    "<h2> Prepare </h2>   \n",
    "    \n",
    "For this project, I will use the public data of Cyclistic’s historical trip data to analyze and identify trends. The data has been made available by [Motivate International Inc](https://divvy-tripdata.s3.amazonaws.com/index.html). under the [license](https://www.divvybikes.com/data-license-agreement).\n",
    "and also available on kaggle\n",
    "\n",
    "\n"
   ]
  },
  {
   "cell_type": "code",
   "execution_count": 1,
   "id": "976e6af5",
   "metadata": {
    "execution": {
     "iopub.execute_input": "2021-10-12T18:12:31.017808Z",
     "iopub.status.busy": "2021-10-12T18:12:31.014744Z",
     "iopub.status.idle": "2021-10-12T18:12:32.602462Z",
     "shell.execute_reply": "2021-10-12T18:12:32.600615Z"
    },
    "papermill": {
     "duration": 1.625999,
     "end_time": "2021-10-12T18:12:32.602628",
     "exception": false,
     "start_time": "2021-10-12T18:12:30.976629",
     "status": "completed"
    },
    "tags": []
   },
   "outputs": [
    {
     "name": "stderr",
     "output_type": "stream",
     "text": [
      "── \u001b[1mAttaching packages\u001b[22m ─────────────────────────────────────── tidyverse 1.3.1 ──\n",
      "\n",
      "\u001b[32m✔\u001b[39m \u001b[34mggplot2\u001b[39m 3.3.5     \u001b[32m✔\u001b[39m \u001b[34mpurrr  \u001b[39m 0.3.4\n",
      "\u001b[32m✔\u001b[39m \u001b[34mtibble \u001b[39m 3.1.4     \u001b[32m✔\u001b[39m \u001b[34mdplyr  \u001b[39m 1.0.7\n",
      "\u001b[32m✔\u001b[39m \u001b[34mtidyr  \u001b[39m 1.1.3     \u001b[32m✔\u001b[39m \u001b[34mstringr\u001b[39m 1.4.0\n",
      "\u001b[32m✔\u001b[39m \u001b[34mreadr  \u001b[39m 2.0.1     \u001b[32m✔\u001b[39m \u001b[34mforcats\u001b[39m 0.5.1\n",
      "\n",
      "── \u001b[1mConflicts\u001b[22m ────────────────────────────────────────── tidyverse_conflicts() ──\n",
      "\u001b[31m✖\u001b[39m \u001b[34mdplyr\u001b[39m::\u001b[32mfilter()\u001b[39m masks \u001b[34mstats\u001b[39m::filter()\n",
      "\u001b[31m✖\u001b[39m \u001b[34mdplyr\u001b[39m::\u001b[32mlag()\u001b[39m    masks \u001b[34mstats\u001b[39m::lag()\n",
      "\n",
      "\n",
      "Attaching package: ‘lubridate’\n",
      "\n",
      "\n",
      "The following objects are masked from ‘package:base’:\n",
      "\n",
      "    date, intersect, setdiff, union\n",
      "\n",
      "\n",
      "\n",
      "Attaching package: ‘janitor’\n",
      "\n",
      "\n",
      "The following objects are masked from ‘package:stats’:\n",
      "\n",
      "    chisq.test, fisher.test\n",
      "\n",
      "\n",
      "\n",
      "Attaching package: ‘data.table’\n",
      "\n",
      "\n",
      "The following objects are masked from ‘package:lubridate’:\n",
      "\n",
      "    hour, isoweek, mday, minute, month, quarter, second, wday, week,\n",
      "    yday, year\n",
      "\n",
      "\n",
      "The following objects are masked from ‘package:dplyr’:\n",
      "\n",
      "    between, first, last\n",
      "\n",
      "\n",
      "The following object is masked from ‘package:purrr’:\n",
      "\n",
      "    transpose\n",
      "\n",
      "\n"
     ]
    }
   ],
   "source": [
    "# load the required packages\n",
    "\n",
    "library(tidyverse)\n",
    "library(ggplot2)\n",
    "library(lubridate)\n",
    "library(dplyr)\n",
    "library(readr)\n",
    "library(janitor)\n",
    "library(data.table)\n",
    "library(tidyr)"
   ]
  },
  {
   "cell_type": "code",
   "execution_count": 2,
   "id": "31075a1a",
   "metadata": {
    "execution": {
     "iopub.execute_input": "2021-10-12T18:12:32.717392Z",
     "iopub.status.busy": "2021-10-12T18:12:32.683189Z",
     "iopub.status.idle": "2021-10-12T18:13:42.357354Z",
     "shell.execute_reply": "2021-10-12T18:13:42.355635Z"
    },
    "papermill": {
     "duration": 69.716222,
     "end_time": "2021-10-12T18:13:42.357595",
     "exception": false,
     "start_time": "2021-10-12T18:12:32.641373",
     "status": "completed"
    },
    "tags": []
   },
   "outputs": [],
   "source": [
    "#load the data set\n",
    "                   \n",
    "apr20 <- read.csv(\"../input/cyclistic/202004-divvy-tripdata/202004-divvy-tripdata.csv\")\n",
    "may20 <- read.csv(\"../input/cyclistic/202005-divvy-tripdata/202005-divvy-tripdata.csv\")\n",
    "june20 <- read.csv(\"../input/cyclistic/202006-divvy-tripdata/202006-divvy-tripdata.csv\")\n",
    "july20 <- read.csv(\"../input/cyclistic/202007-divvy-tripdata/202007-divvy-tripdata.csv\")\n",
    "aug20 <- read.csv(\"../input/cyclistic/202008-divvy-tripdata/202008-divvy-tripdata.csv\")\n",
    "sep20 <- read.csv(\"../input/cyclistic/202009-divvy-tripdata/202009-divvy-tripdata.csv\")\n",
    "oct20 <- read.csv(\"../input/cyclistic/202010-divvy-tripdata/202010-divvy-tripdata.csv\")\n",
    "nov20 <- read.csv(\"../input/cyclistic/202011-divvy-tripdata/202011-divvy-tripdata.csv\")\n",
    "dec20 <- read.csv(\"../input/cyclistic/202012-divvy-tripdata/202012-divvy-tripdata.csv\")\n",
    "jan21 <- read.csv(\"../input/cyclistic/202101-divvy-tripdata/202101-divvy-tripdata.csv\")\n",
    "feb21 <- read.csv(\"../input/cyclistic/202102-divvy-tripdata/202102-divvy-tripdata.csv\")\n",
    "mar21 <- read.csv(\"../input/cyclistic/202103-divvy-tripdata/202103-divvy-tripdata.csv\")"
   ]
  },
  {
   "cell_type": "code",
   "execution_count": 3,
   "id": "7ab3d35f",
   "metadata": {
    "execution": {
     "iopub.execute_input": "2021-10-12T18:13:42.440356Z",
     "iopub.status.busy": "2021-10-12T18:13:42.438426Z",
     "iopub.status.idle": "2021-10-12T18:13:42.517325Z",
     "shell.execute_reply": "2021-10-12T18:13:42.515702Z"
    },
    "papermill": {
     "duration": 0.12017,
     "end_time": "2021-10-12T18:13:42.517465",
     "exception": false,
     "start_time": "2021-10-12T18:13:42.397295",
     "status": "completed"
    },
    "tags": []
   },
   "outputs": [
    {
     "data": {
      "text/html": [
       "<style>\n",
       ".list-inline {list-style: none; margin:0; padding: 0}\n",
       ".list-inline>li {display: inline-block}\n",
       ".list-inline>li:not(:last-child)::after {content: \"\\00b7\"; padding: 0 .5ex}\n",
       "</style>\n",
       "<ol class=list-inline><li>'ride_id'</li><li>'rideable_type'</li><li>'started_at'</li><li>'ended_at'</li><li>'start_station_name'</li><li>'start_station_id'</li><li>'end_station_name'</li><li>'end_station_id'</li><li>'start_lat'</li><li>'start_lng'</li><li>'end_lat'</li><li>'end_lng'</li><li>'member_casual'</li></ol>\n"
      ],
      "text/latex": [
       "\\begin{enumerate*}\n",
       "\\item 'ride\\_id'\n",
       "\\item 'rideable\\_type'\n",
       "\\item 'started\\_at'\n",
       "\\item 'ended\\_at'\n",
       "\\item 'start\\_station\\_name'\n",
       "\\item 'start\\_station\\_id'\n",
       "\\item 'end\\_station\\_name'\n",
       "\\item 'end\\_station\\_id'\n",
       "\\item 'start\\_lat'\n",
       "\\item 'start\\_lng'\n",
       "\\item 'end\\_lat'\n",
       "\\item 'end\\_lng'\n",
       "\\item 'member\\_casual'\n",
       "\\end{enumerate*}\n"
      ],
      "text/markdown": [
       "1. 'ride_id'\n",
       "2. 'rideable_type'\n",
       "3. 'started_at'\n",
       "4. 'ended_at'\n",
       "5. 'start_station_name'\n",
       "6. 'start_station_id'\n",
       "7. 'end_station_name'\n",
       "8. 'end_station_id'\n",
       "9. 'start_lat'\n",
       "10. 'start_lng'\n",
       "11. 'end_lat'\n",
       "12. 'end_lng'\n",
       "13. 'member_casual'\n",
       "\n",
       "\n"
      ],
      "text/plain": [
       " [1] \"ride_id\"            \"rideable_type\"      \"started_at\"        \n",
       " [4] \"ended_at\"           \"start_station_name\" \"start_station_id\"  \n",
       " [7] \"end_station_name\"   \"end_station_id\"     \"start_lat\"         \n",
       "[10] \"start_lng\"          \"end_lat\"            \"end_lng\"           \n",
       "[13] \"member_casual\"     "
      ]
     },
     "metadata": {},
     "output_type": "display_data"
    },
    {
     "data": {
      "text/html": [
       "<style>\n",
       ".list-inline {list-style: none; margin:0; padding: 0}\n",
       ".list-inline>li {display: inline-block}\n",
       ".list-inline>li:not(:last-child)::after {content: \"\\00b7\"; padding: 0 .5ex}\n",
       "</style>\n",
       "<ol class=list-inline><li>'ride_id'</li><li>'rideable_type'</li><li>'started_at'</li><li>'ended_at'</li><li>'start_station_name'</li><li>'start_station_id'</li><li>'end_station_name'</li><li>'end_station_id'</li><li>'start_lat'</li><li>'start_lng'</li><li>'end_lat'</li><li>'end_lng'</li><li>'member_casual'</li></ol>\n"
      ],
      "text/latex": [
       "\\begin{enumerate*}\n",
       "\\item 'ride\\_id'\n",
       "\\item 'rideable\\_type'\n",
       "\\item 'started\\_at'\n",
       "\\item 'ended\\_at'\n",
       "\\item 'start\\_station\\_name'\n",
       "\\item 'start\\_station\\_id'\n",
       "\\item 'end\\_station\\_name'\n",
       "\\item 'end\\_station\\_id'\n",
       "\\item 'start\\_lat'\n",
       "\\item 'start\\_lng'\n",
       "\\item 'end\\_lat'\n",
       "\\item 'end\\_lng'\n",
       "\\item 'member\\_casual'\n",
       "\\end{enumerate*}\n"
      ],
      "text/markdown": [
       "1. 'ride_id'\n",
       "2. 'rideable_type'\n",
       "3. 'started_at'\n",
       "4. 'ended_at'\n",
       "5. 'start_station_name'\n",
       "6. 'start_station_id'\n",
       "7. 'end_station_name'\n",
       "8. 'end_station_id'\n",
       "9. 'start_lat'\n",
       "10. 'start_lng'\n",
       "11. 'end_lat'\n",
       "12. 'end_lng'\n",
       "13. 'member_casual'\n",
       "\n",
       "\n"
      ],
      "text/plain": [
       " [1] \"ride_id\"            \"rideable_type\"      \"started_at\"        \n",
       " [4] \"ended_at\"           \"start_station_name\" \"start_station_id\"  \n",
       " [7] \"end_station_name\"   \"end_station_id\"     \"start_lat\"         \n",
       "[10] \"start_lng\"          \"end_lat\"            \"end_lng\"           \n",
       "[13] \"member_casual\"     "
      ]
     },
     "metadata": {},
     "output_type": "display_data"
    },
    {
     "data": {
      "text/html": [
       "<style>\n",
       ".list-inline {list-style: none; margin:0; padding: 0}\n",
       ".list-inline>li {display: inline-block}\n",
       ".list-inline>li:not(:last-child)::after {content: \"\\00b7\"; padding: 0 .5ex}\n",
       "</style>\n",
       "<ol class=list-inline><li>'ride_id'</li><li>'rideable_type'</li><li>'started_at'</li><li>'ended_at'</li><li>'start_station_name'</li><li>'start_station_id'</li><li>'end_station_name'</li><li>'end_station_id'</li><li>'start_lat'</li><li>'start_lng'</li><li>'end_lat'</li><li>'end_lng'</li><li>'member_casual'</li></ol>\n"
      ],
      "text/latex": [
       "\\begin{enumerate*}\n",
       "\\item 'ride\\_id'\n",
       "\\item 'rideable\\_type'\n",
       "\\item 'started\\_at'\n",
       "\\item 'ended\\_at'\n",
       "\\item 'start\\_station\\_name'\n",
       "\\item 'start\\_station\\_id'\n",
       "\\item 'end\\_station\\_name'\n",
       "\\item 'end\\_station\\_id'\n",
       "\\item 'start\\_lat'\n",
       "\\item 'start\\_lng'\n",
       "\\item 'end\\_lat'\n",
       "\\item 'end\\_lng'\n",
       "\\item 'member\\_casual'\n",
       "\\end{enumerate*}\n"
      ],
      "text/markdown": [
       "1. 'ride_id'\n",
       "2. 'rideable_type'\n",
       "3. 'started_at'\n",
       "4. 'ended_at'\n",
       "5. 'start_station_name'\n",
       "6. 'start_station_id'\n",
       "7. 'end_station_name'\n",
       "8. 'end_station_id'\n",
       "9. 'start_lat'\n",
       "10. 'start_lng'\n",
       "11. 'end_lat'\n",
       "12. 'end_lng'\n",
       "13. 'member_casual'\n",
       "\n",
       "\n"
      ],
      "text/plain": [
       " [1] \"ride_id\"            \"rideable_type\"      \"started_at\"        \n",
       " [4] \"ended_at\"           \"start_station_name\" \"start_station_id\"  \n",
       " [7] \"end_station_name\"   \"end_station_id\"     \"start_lat\"         \n",
       "[10] \"start_lng\"          \"end_lat\"            \"end_lng\"           \n",
       "[13] \"member_casual\"     "
      ]
     },
     "metadata": {},
     "output_type": "display_data"
    },
    {
     "data": {
      "text/html": [
       "<style>\n",
       ".list-inline {list-style: none; margin:0; padding: 0}\n",
       ".list-inline>li {display: inline-block}\n",
       ".list-inline>li:not(:last-child)::after {content: \"\\00b7\"; padding: 0 .5ex}\n",
       "</style>\n",
       "<ol class=list-inline><li>'ride_id'</li><li>'rideable_type'</li><li>'started_at'</li><li>'ended_at'</li><li>'start_station_name'</li><li>'start_station_id'</li><li>'end_station_name'</li><li>'end_station_id'</li><li>'start_lat'</li><li>'start_lng'</li><li>'end_lat'</li><li>'end_lng'</li><li>'member_casual'</li></ol>\n"
      ],
      "text/latex": [
       "\\begin{enumerate*}\n",
       "\\item 'ride\\_id'\n",
       "\\item 'rideable\\_type'\n",
       "\\item 'started\\_at'\n",
       "\\item 'ended\\_at'\n",
       "\\item 'start\\_station\\_name'\n",
       "\\item 'start\\_station\\_id'\n",
       "\\item 'end\\_station\\_name'\n",
       "\\item 'end\\_station\\_id'\n",
       "\\item 'start\\_lat'\n",
       "\\item 'start\\_lng'\n",
       "\\item 'end\\_lat'\n",
       "\\item 'end\\_lng'\n",
       "\\item 'member\\_casual'\n",
       "\\end{enumerate*}\n"
      ],
      "text/markdown": [
       "1. 'ride_id'\n",
       "2. 'rideable_type'\n",
       "3. 'started_at'\n",
       "4. 'ended_at'\n",
       "5. 'start_station_name'\n",
       "6. 'start_station_id'\n",
       "7. 'end_station_name'\n",
       "8. 'end_station_id'\n",
       "9. 'start_lat'\n",
       "10. 'start_lng'\n",
       "11. 'end_lat'\n",
       "12. 'end_lng'\n",
       "13. 'member_casual'\n",
       "\n",
       "\n"
      ],
      "text/plain": [
       " [1] \"ride_id\"            \"rideable_type\"      \"started_at\"        \n",
       " [4] \"ended_at\"           \"start_station_name\" \"start_station_id\"  \n",
       " [7] \"end_station_name\"   \"end_station_id\"     \"start_lat\"         \n",
       "[10] \"start_lng\"          \"end_lat\"            \"end_lng\"           \n",
       "[13] \"member_casual\"     "
      ]
     },
     "metadata": {},
     "output_type": "display_data"
    },
    {
     "data": {
      "text/html": [
       "<style>\n",
       ".list-inline {list-style: none; margin:0; padding: 0}\n",
       ".list-inline>li {display: inline-block}\n",
       ".list-inline>li:not(:last-child)::after {content: \"\\00b7\"; padding: 0 .5ex}\n",
       "</style>\n",
       "<ol class=list-inline><li>'ride_id'</li><li>'rideable_type'</li><li>'started_at'</li><li>'ended_at'</li><li>'start_station_name'</li><li>'start_station_id'</li><li>'end_station_name'</li><li>'end_station_id'</li><li>'start_lat'</li><li>'start_lng'</li><li>'end_lat'</li><li>'end_lng'</li><li>'member_casual'</li></ol>\n"
      ],
      "text/latex": [
       "\\begin{enumerate*}\n",
       "\\item 'ride\\_id'\n",
       "\\item 'rideable\\_type'\n",
       "\\item 'started\\_at'\n",
       "\\item 'ended\\_at'\n",
       "\\item 'start\\_station\\_name'\n",
       "\\item 'start\\_station\\_id'\n",
       "\\item 'end\\_station\\_name'\n",
       "\\item 'end\\_station\\_id'\n",
       "\\item 'start\\_lat'\n",
       "\\item 'start\\_lng'\n",
       "\\item 'end\\_lat'\n",
       "\\item 'end\\_lng'\n",
       "\\item 'member\\_casual'\n",
       "\\end{enumerate*}\n"
      ],
      "text/markdown": [
       "1. 'ride_id'\n",
       "2. 'rideable_type'\n",
       "3. 'started_at'\n",
       "4. 'ended_at'\n",
       "5. 'start_station_name'\n",
       "6. 'start_station_id'\n",
       "7. 'end_station_name'\n",
       "8. 'end_station_id'\n",
       "9. 'start_lat'\n",
       "10. 'start_lng'\n",
       "11. 'end_lat'\n",
       "12. 'end_lng'\n",
       "13. 'member_casual'\n",
       "\n",
       "\n"
      ],
      "text/plain": [
       " [1] \"ride_id\"            \"rideable_type\"      \"started_at\"        \n",
       " [4] \"ended_at\"           \"start_station_name\" \"start_station_id\"  \n",
       " [7] \"end_station_name\"   \"end_station_id\"     \"start_lat\"         \n",
       "[10] \"start_lng\"          \"end_lat\"            \"end_lng\"           \n",
       "[13] \"member_casual\"     "
      ]
     },
     "metadata": {},
     "output_type": "display_data"
    },
    {
     "data": {
      "text/html": [
       "<style>\n",
       ".list-inline {list-style: none; margin:0; padding: 0}\n",
       ".list-inline>li {display: inline-block}\n",
       ".list-inline>li:not(:last-child)::after {content: \"\\00b7\"; padding: 0 .5ex}\n",
       "</style>\n",
       "<ol class=list-inline><li>'ride_id'</li><li>'rideable_type'</li><li>'started_at'</li><li>'ended_at'</li><li>'start_station_name'</li><li>'start_station_id'</li><li>'end_station_name'</li><li>'end_station_id'</li><li>'start_lat'</li><li>'start_lng'</li><li>'end_lat'</li><li>'end_lng'</li><li>'member_casual'</li></ol>\n"
      ],
      "text/latex": [
       "\\begin{enumerate*}\n",
       "\\item 'ride\\_id'\n",
       "\\item 'rideable\\_type'\n",
       "\\item 'started\\_at'\n",
       "\\item 'ended\\_at'\n",
       "\\item 'start\\_station\\_name'\n",
       "\\item 'start\\_station\\_id'\n",
       "\\item 'end\\_station\\_name'\n",
       "\\item 'end\\_station\\_id'\n",
       "\\item 'start\\_lat'\n",
       "\\item 'start\\_lng'\n",
       "\\item 'end\\_lat'\n",
       "\\item 'end\\_lng'\n",
       "\\item 'member\\_casual'\n",
       "\\end{enumerate*}\n"
      ],
      "text/markdown": [
       "1. 'ride_id'\n",
       "2. 'rideable_type'\n",
       "3. 'started_at'\n",
       "4. 'ended_at'\n",
       "5. 'start_station_name'\n",
       "6. 'start_station_id'\n",
       "7. 'end_station_name'\n",
       "8. 'end_station_id'\n",
       "9. 'start_lat'\n",
       "10. 'start_lng'\n",
       "11. 'end_lat'\n",
       "12. 'end_lng'\n",
       "13. 'member_casual'\n",
       "\n",
       "\n"
      ],
      "text/plain": [
       " [1] \"ride_id\"            \"rideable_type\"      \"started_at\"        \n",
       " [4] \"ended_at\"           \"start_station_name\" \"start_station_id\"  \n",
       " [7] \"end_station_name\"   \"end_station_id\"     \"start_lat\"         \n",
       "[10] \"start_lng\"          \"end_lat\"            \"end_lng\"           \n",
       "[13] \"member_casual\"     "
      ]
     },
     "metadata": {},
     "output_type": "display_data"
    },
    {
     "data": {
      "text/html": [
       "<style>\n",
       ".list-inline {list-style: none; margin:0; padding: 0}\n",
       ".list-inline>li {display: inline-block}\n",
       ".list-inline>li:not(:last-child)::after {content: \"\\00b7\"; padding: 0 .5ex}\n",
       "</style>\n",
       "<ol class=list-inline><li>'ride_id'</li><li>'rideable_type'</li><li>'started_at'</li><li>'ended_at'</li><li>'start_station_name'</li><li>'start_station_id'</li><li>'end_station_name'</li><li>'end_station_id'</li><li>'start_lat'</li><li>'start_lng'</li><li>'end_lat'</li><li>'end_lng'</li><li>'member_casual'</li></ol>\n"
      ],
      "text/latex": [
       "\\begin{enumerate*}\n",
       "\\item 'ride\\_id'\n",
       "\\item 'rideable\\_type'\n",
       "\\item 'started\\_at'\n",
       "\\item 'ended\\_at'\n",
       "\\item 'start\\_station\\_name'\n",
       "\\item 'start\\_station\\_id'\n",
       "\\item 'end\\_station\\_name'\n",
       "\\item 'end\\_station\\_id'\n",
       "\\item 'start\\_lat'\n",
       "\\item 'start\\_lng'\n",
       "\\item 'end\\_lat'\n",
       "\\item 'end\\_lng'\n",
       "\\item 'member\\_casual'\n",
       "\\end{enumerate*}\n"
      ],
      "text/markdown": [
       "1. 'ride_id'\n",
       "2. 'rideable_type'\n",
       "3. 'started_at'\n",
       "4. 'ended_at'\n",
       "5. 'start_station_name'\n",
       "6. 'start_station_id'\n",
       "7. 'end_station_name'\n",
       "8. 'end_station_id'\n",
       "9. 'start_lat'\n",
       "10. 'start_lng'\n",
       "11. 'end_lat'\n",
       "12. 'end_lng'\n",
       "13. 'member_casual'\n",
       "\n",
       "\n"
      ],
      "text/plain": [
       " [1] \"ride_id\"            \"rideable_type\"      \"started_at\"        \n",
       " [4] \"ended_at\"           \"start_station_name\" \"start_station_id\"  \n",
       " [7] \"end_station_name\"   \"end_station_id\"     \"start_lat\"         \n",
       "[10] \"start_lng\"          \"end_lat\"            \"end_lng\"           \n",
       "[13] \"member_casual\"     "
      ]
     },
     "metadata": {},
     "output_type": "display_data"
    },
    {
     "data": {
      "text/html": [
       "<style>\n",
       ".list-inline {list-style: none; margin:0; padding: 0}\n",
       ".list-inline>li {display: inline-block}\n",
       ".list-inline>li:not(:last-child)::after {content: \"\\00b7\"; padding: 0 .5ex}\n",
       "</style>\n",
       "<ol class=list-inline><li>'ride_id'</li><li>'rideable_type'</li><li>'started_at'</li><li>'ended_at'</li><li>'start_station_name'</li><li>'start_station_id'</li><li>'end_station_name'</li><li>'end_station_id'</li><li>'start_lat'</li><li>'start_lng'</li><li>'end_lat'</li><li>'end_lng'</li><li>'member_casual'</li></ol>\n"
      ],
      "text/latex": [
       "\\begin{enumerate*}\n",
       "\\item 'ride\\_id'\n",
       "\\item 'rideable\\_type'\n",
       "\\item 'started\\_at'\n",
       "\\item 'ended\\_at'\n",
       "\\item 'start\\_station\\_name'\n",
       "\\item 'start\\_station\\_id'\n",
       "\\item 'end\\_station\\_name'\n",
       "\\item 'end\\_station\\_id'\n",
       "\\item 'start\\_lat'\n",
       "\\item 'start\\_lng'\n",
       "\\item 'end\\_lat'\n",
       "\\item 'end\\_lng'\n",
       "\\item 'member\\_casual'\n",
       "\\end{enumerate*}\n"
      ],
      "text/markdown": [
       "1. 'ride_id'\n",
       "2. 'rideable_type'\n",
       "3. 'started_at'\n",
       "4. 'ended_at'\n",
       "5. 'start_station_name'\n",
       "6. 'start_station_id'\n",
       "7. 'end_station_name'\n",
       "8. 'end_station_id'\n",
       "9. 'start_lat'\n",
       "10. 'start_lng'\n",
       "11. 'end_lat'\n",
       "12. 'end_lng'\n",
       "13. 'member_casual'\n",
       "\n",
       "\n"
      ],
      "text/plain": [
       " [1] \"ride_id\"            \"rideable_type\"      \"started_at\"        \n",
       " [4] \"ended_at\"           \"start_station_name\" \"start_station_id\"  \n",
       " [7] \"end_station_name\"   \"end_station_id\"     \"start_lat\"         \n",
       "[10] \"start_lng\"          \"end_lat\"            \"end_lng\"           \n",
       "[13] \"member_casual\"     "
      ]
     },
     "metadata": {},
     "output_type": "display_data"
    },
    {
     "data": {
      "text/html": [
       "<style>\n",
       ".list-inline {list-style: none; margin:0; padding: 0}\n",
       ".list-inline>li {display: inline-block}\n",
       ".list-inline>li:not(:last-child)::after {content: \"\\00b7\"; padding: 0 .5ex}\n",
       "</style>\n",
       "<ol class=list-inline><li>'ride_id'</li><li>'rideable_type'</li><li>'started_at'</li><li>'ended_at'</li><li>'start_station_name'</li><li>'start_station_id'</li><li>'end_station_name'</li><li>'end_station_id'</li><li>'start_lat'</li><li>'start_lng'</li><li>'end_lat'</li><li>'end_lng'</li><li>'member_casual'</li></ol>\n"
      ],
      "text/latex": [
       "\\begin{enumerate*}\n",
       "\\item 'ride\\_id'\n",
       "\\item 'rideable\\_type'\n",
       "\\item 'started\\_at'\n",
       "\\item 'ended\\_at'\n",
       "\\item 'start\\_station\\_name'\n",
       "\\item 'start\\_station\\_id'\n",
       "\\item 'end\\_station\\_name'\n",
       "\\item 'end\\_station\\_id'\n",
       "\\item 'start\\_lat'\n",
       "\\item 'start\\_lng'\n",
       "\\item 'end\\_lat'\n",
       "\\item 'end\\_lng'\n",
       "\\item 'member\\_casual'\n",
       "\\end{enumerate*}\n"
      ],
      "text/markdown": [
       "1. 'ride_id'\n",
       "2. 'rideable_type'\n",
       "3. 'started_at'\n",
       "4. 'ended_at'\n",
       "5. 'start_station_name'\n",
       "6. 'start_station_id'\n",
       "7. 'end_station_name'\n",
       "8. 'end_station_id'\n",
       "9. 'start_lat'\n",
       "10. 'start_lng'\n",
       "11. 'end_lat'\n",
       "12. 'end_lng'\n",
       "13. 'member_casual'\n",
       "\n",
       "\n"
      ],
      "text/plain": [
       " [1] \"ride_id\"            \"rideable_type\"      \"started_at\"        \n",
       " [4] \"ended_at\"           \"start_station_name\" \"start_station_id\"  \n",
       " [7] \"end_station_name\"   \"end_station_id\"     \"start_lat\"         \n",
       "[10] \"start_lng\"          \"end_lat\"            \"end_lng\"           \n",
       "[13] \"member_casual\"     "
      ]
     },
     "metadata": {},
     "output_type": "display_data"
    },
    {
     "data": {
      "text/html": [
       "<style>\n",
       ".list-inline {list-style: none; margin:0; padding: 0}\n",
       ".list-inline>li {display: inline-block}\n",
       ".list-inline>li:not(:last-child)::after {content: \"\\00b7\"; padding: 0 .5ex}\n",
       "</style>\n",
       "<ol class=list-inline><li>'ride_id'</li><li>'rideable_type'</li><li>'started_at'</li><li>'ended_at'</li><li>'start_station_name'</li><li>'start_station_id'</li><li>'end_station_name'</li><li>'end_station_id'</li><li>'start_lat'</li><li>'start_lng'</li><li>'end_lat'</li><li>'end_lng'</li><li>'member_casual'</li></ol>\n"
      ],
      "text/latex": [
       "\\begin{enumerate*}\n",
       "\\item 'ride\\_id'\n",
       "\\item 'rideable\\_type'\n",
       "\\item 'started\\_at'\n",
       "\\item 'ended\\_at'\n",
       "\\item 'start\\_station\\_name'\n",
       "\\item 'start\\_station\\_id'\n",
       "\\item 'end\\_station\\_name'\n",
       "\\item 'end\\_station\\_id'\n",
       "\\item 'start\\_lat'\n",
       "\\item 'start\\_lng'\n",
       "\\item 'end\\_lat'\n",
       "\\item 'end\\_lng'\n",
       "\\item 'member\\_casual'\n",
       "\\end{enumerate*}\n"
      ],
      "text/markdown": [
       "1. 'ride_id'\n",
       "2. 'rideable_type'\n",
       "3. 'started_at'\n",
       "4. 'ended_at'\n",
       "5. 'start_station_name'\n",
       "6. 'start_station_id'\n",
       "7. 'end_station_name'\n",
       "8. 'end_station_id'\n",
       "9. 'start_lat'\n",
       "10. 'start_lng'\n",
       "11. 'end_lat'\n",
       "12. 'end_lng'\n",
       "13. 'member_casual'\n",
       "\n",
       "\n"
      ],
      "text/plain": [
       " [1] \"ride_id\"            \"rideable_type\"      \"started_at\"        \n",
       " [4] \"ended_at\"           \"start_station_name\" \"start_station_id\"  \n",
       " [7] \"end_station_name\"   \"end_station_id\"     \"start_lat\"         \n",
       "[10] \"start_lng\"          \"end_lat\"            \"end_lng\"           \n",
       "[13] \"member_casual\"     "
      ]
     },
     "metadata": {},
     "output_type": "display_data"
    },
    {
     "data": {
      "text/html": [
       "<style>\n",
       ".list-inline {list-style: none; margin:0; padding: 0}\n",
       ".list-inline>li {display: inline-block}\n",
       ".list-inline>li:not(:last-child)::after {content: \"\\00b7\"; padding: 0 .5ex}\n",
       "</style>\n",
       "<ol class=list-inline><li>'ride_id'</li><li>'rideable_type'</li><li>'started_at'</li><li>'ended_at'</li><li>'start_station_name'</li><li>'start_station_id'</li><li>'end_station_name'</li><li>'end_station_id'</li><li>'start_lat'</li><li>'start_lng'</li><li>'end_lat'</li><li>'end_lng'</li><li>'member_casual'</li></ol>\n"
      ],
      "text/latex": [
       "\\begin{enumerate*}\n",
       "\\item 'ride\\_id'\n",
       "\\item 'rideable\\_type'\n",
       "\\item 'started\\_at'\n",
       "\\item 'ended\\_at'\n",
       "\\item 'start\\_station\\_name'\n",
       "\\item 'start\\_station\\_id'\n",
       "\\item 'end\\_station\\_name'\n",
       "\\item 'end\\_station\\_id'\n",
       "\\item 'start\\_lat'\n",
       "\\item 'start\\_lng'\n",
       "\\item 'end\\_lat'\n",
       "\\item 'end\\_lng'\n",
       "\\item 'member\\_casual'\n",
       "\\end{enumerate*}\n"
      ],
      "text/markdown": [
       "1. 'ride_id'\n",
       "2. 'rideable_type'\n",
       "3. 'started_at'\n",
       "4. 'ended_at'\n",
       "5. 'start_station_name'\n",
       "6. 'start_station_id'\n",
       "7. 'end_station_name'\n",
       "8. 'end_station_id'\n",
       "9. 'start_lat'\n",
       "10. 'start_lng'\n",
       "11. 'end_lat'\n",
       "12. 'end_lng'\n",
       "13. 'member_casual'\n",
       "\n",
       "\n"
      ],
      "text/plain": [
       " [1] \"ride_id\"            \"rideable_type\"      \"started_at\"        \n",
       " [4] \"ended_at\"           \"start_station_name\" \"start_station_id\"  \n",
       " [7] \"end_station_name\"   \"end_station_id\"     \"start_lat\"         \n",
       "[10] \"start_lng\"          \"end_lat\"            \"end_lng\"           \n",
       "[13] \"member_casual\"     "
      ]
     },
     "metadata": {},
     "output_type": "display_data"
    },
    {
     "data": {
      "text/html": [
       "<style>\n",
       ".list-inline {list-style: none; margin:0; padding: 0}\n",
       ".list-inline>li {display: inline-block}\n",
       ".list-inline>li:not(:last-child)::after {content: \"\\00b7\"; padding: 0 .5ex}\n",
       "</style>\n",
       "<ol class=list-inline><li>'ride_id'</li><li>'rideable_type'</li><li>'started_at'</li><li>'ended_at'</li><li>'start_station_name'</li><li>'start_station_id'</li><li>'end_station_name'</li><li>'end_station_id'</li><li>'start_lat'</li><li>'start_lng'</li><li>'end_lat'</li><li>'end_lng'</li><li>'member_casual'</li></ol>\n"
      ],
      "text/latex": [
       "\\begin{enumerate*}\n",
       "\\item 'ride\\_id'\n",
       "\\item 'rideable\\_type'\n",
       "\\item 'started\\_at'\n",
       "\\item 'ended\\_at'\n",
       "\\item 'start\\_station\\_name'\n",
       "\\item 'start\\_station\\_id'\n",
       "\\item 'end\\_station\\_name'\n",
       "\\item 'end\\_station\\_id'\n",
       "\\item 'start\\_lat'\n",
       "\\item 'start\\_lng'\n",
       "\\item 'end\\_lat'\n",
       "\\item 'end\\_lng'\n",
       "\\item 'member\\_casual'\n",
       "\\end{enumerate*}\n"
      ],
      "text/markdown": [
       "1. 'ride_id'\n",
       "2. 'rideable_type'\n",
       "3. 'started_at'\n",
       "4. 'ended_at'\n",
       "5. 'start_station_name'\n",
       "6. 'start_station_id'\n",
       "7. 'end_station_name'\n",
       "8. 'end_station_id'\n",
       "9. 'start_lat'\n",
       "10. 'start_lng'\n",
       "11. 'end_lat'\n",
       "12. 'end_lng'\n",
       "13. 'member_casual'\n",
       "\n",
       "\n"
      ],
      "text/plain": [
       " [1] \"ride_id\"            \"rideable_type\"      \"started_at\"        \n",
       " [4] \"ended_at\"           \"start_station_name\" \"start_station_id\"  \n",
       " [7] \"end_station_name\"   \"end_station_id\"     \"start_lat\"         \n",
       "[10] \"start_lng\"          \"end_lat\"            \"end_lng\"           \n",
       "[13] \"member_casual\"     "
      ]
     },
     "metadata": {},
     "output_type": "display_data"
    }
   ],
   "source": [
    "colnames(apr20)\n",
    "colnames(may20)\n",
    "colnames(june20)\n",
    "colnames(july20)\n",
    "colnames(aug20)\n",
    "colnames(sep20)\n",
    "colnames(oct20)\n",
    "colnames(nov20)\n",
    "colnames(dec20)\n",
    "colnames(jan21)\n",
    "colnames(feb21)\n",
    "colnames(mar21)"
   ]
  },
  {
   "cell_type": "code",
   "execution_count": 4,
   "id": "aba2b531",
   "metadata": {
    "execution": {
     "iopub.execute_input": "2021-10-12T18:13:42.614559Z",
     "iopub.status.busy": "2021-10-12T18:13:42.612542Z",
     "iopub.status.idle": "2021-10-12T18:13:42.922009Z",
     "shell.execute_reply": "2021-10-12T18:13:42.920103Z"
    },
    "papermill": {
     "duration": 0.358938,
     "end_time": "2021-10-12T18:13:42.922265",
     "exception": false,
     "start_time": "2021-10-12T18:13:42.563327",
     "status": "completed"
    },
    "tags": []
   },
   "outputs": [
    {
     "name": "stdout",
     "output_type": "stream",
     "text": [
      "'data.frame':\t84776 obs. of  13 variables:\n",
      " $ ride_id           : chr  \"A847FADBBC638E45\" \"5405B80E996FF60D\" \"5DD24A79A4E006F4\" \"2A59BBDF5CDBA725\" ...\n",
      " $ rideable_type     : chr  \"docked_bike\" \"docked_bike\" \"docked_bike\" \"docked_bike\" ...\n",
      " $ started_at        : chr  \"2020-04-26 17:45:14\" \"2020-04-17 17:08:54\" \"2020-04-01 17:54:13\" \"2020-04-07 12:50:19\" ...\n",
      " $ ended_at          : chr  \"2020-04-26 18:12:03\" \"2020-04-17 17:17:03\" \"2020-04-01 18:08:36\" \"2020-04-07 13:02:31\" ...\n",
      " $ start_station_name: chr  \"Eckhart Park\" \"Drake Ave & Fullerton Ave\" \"McClurg Ct & Erie St\" \"California Ave & Division St\" ...\n",
      " $ start_station_id  : int  86 503 142 216 125 173 35 434 627 377 ...\n",
      " $ end_station_name  : chr  \"Lincoln Ave & Diversey Pkwy\" \"Kosciuszko Park\" \"Indiana Ave & Roosevelt Rd\" \"Wood St & Augusta Blvd\" ...\n",
      " $ end_station_id    : int  152 499 255 657 323 35 635 382 359 508 ...\n",
      " $ start_lat         : num  41.9 41.9 41.9 41.9 41.9 ...\n",
      " $ start_lng         : num  -87.7 -87.7 -87.6 -87.7 -87.6 ...\n",
      " $ end_lat           : num  41.9 41.9 41.9 41.9 42 ...\n",
      " $ end_lng           : num  -87.7 -87.7 -87.6 -87.7 -87.7 ...\n",
      " $ member_casual     : chr  \"member\" \"member\" \"member\" \"member\" ...\n",
      "'data.frame':\t200274 obs. of  13 variables:\n",
      " $ ride_id           : chr  \"02668AD35674B983\" \"7A50CCAF1EDDB28F\" \"2FFCDFDB91FE9A52\" \"58991CF1DB75BA84\" ...\n",
      " $ rideable_type     : chr  \"docked_bike\" \"docked_bike\" \"docked_bike\" \"docked_bike\" ...\n",
      " $ started_at        : chr  \"2020-05-27 10:03:52\" \"2020-05-25 10:47:11\" \"2020-05-02 14:11:03\" \"2020-05-02 16:25:36\" ...\n",
      " $ ended_at          : chr  \"2020-05-27 10:16:49\" \"2020-05-25 11:05:40\" \"2020-05-02 15:48:21\" \"2020-05-02 16:39:28\" ...\n",
      " $ start_station_name: chr  \"Franklin St & Jackson Blvd\" \"Clark St & Wrightwood Ave\" \"Kedzie Ave & Milwaukee Ave\" \"Clarendon Ave & Leland Ave\" ...\n",
      " $ start_station_id  : int  36 340 260 251 261 206 261 180 331 219 ...\n",
      " $ end_station_name  : chr  \"Wabash Ave & Grand Ave\" \"Clark St & Leland Ave\" \"Kedzie Ave & Milwaukee Ave\" \"Lake Shore Dr & Wellington Ave\" ...\n",
      " $ end_station_id    : int  199 326 260 157 206 22 261 180 300 305 ...\n",
      " $ start_lat         : num  41.9 41.9 41.9 42 41.9 ...\n",
      " $ start_lng         : num  -87.6 -87.6 -87.7 -87.7 -87.7 ...\n",
      " $ end_lat           : num  41.9 42 41.9 41.9 41.8 ...\n",
      " $ end_lng           : num  -87.6 -87.7 -87.7 -87.6 -87.6 ...\n",
      " $ member_casual     : chr  \"member\" \"casual\" \"casual\" \"casual\" ...\n",
      "'data.frame':\t343005 obs. of  13 variables:\n",
      " $ ride_id           : chr  \"8CD5DE2C2B6C4CFC\" \"9A191EB2C751D85D\" \"F37D14B0B5659BCF\" \"C41237B506E85FA1\" ...\n",
      " $ rideable_type     : chr  \"docked_bike\" \"docked_bike\" \"docked_bike\" \"docked_bike\" ...\n",
      " $ started_at        : chr  \"2020-06-13 23:24:48\" \"2020-06-26 07:26:10\" \"2020-06-23 17:12:41\" \"2020-06-20 01:09:35\" ...\n",
      " $ ended_at          : chr  \"2020-06-13 23:36:55\" \"2020-06-26 07:31:58\" \"2020-06-23 17:21:14\" \"2020-06-20 01:28:24\" ...\n",
      " $ start_station_name: chr  \"Wilton Ave & Belmont Ave\" \"Federal St & Polk St\" \"Daley Center Plaza\" \"Broadway & Cornelia Ave\" ...\n",
      " $ start_station_id  : int  117 41 81 303 327 327 41 115 338 84 ...\n",
      " $ end_station_name  : chr  \"Damen Ave & Clybourn Ave\" \"Daley Center Plaza\" \"State St & Harrison St\" \"Broadway & Berwyn Ave\" ...\n",
      " $ end_station_id    : int  163 81 5 294 117 117 81 303 164 53 ...\n",
      " $ start_lat         : num  41.9 41.9 41.9 41.9 41.9 ...\n",
      " $ start_lng         : num  -87.7 -87.6 -87.6 -87.6 -87.7 ...\n",
      " $ end_lat           : num  41.9 41.9 41.9 42 41.9 ...\n",
      " $ end_lng           : num  -87.7 -87.6 -87.6 -87.7 -87.7 ...\n",
      " $ member_casual     : chr  \"casual\" \"member\" \"member\" \"casual\" ...\n",
      "'data.frame':\t551480 obs. of  13 variables:\n",
      " $ ride_id           : chr  \"762198876D69004D\" \"BEC9C9FBA0D4CF1B\" \"D2FD8EA432C77EC1\" \"54AE594E20B35881\" ...\n",
      " $ rideable_type     : chr  \"docked_bike\" \"docked_bike\" \"docked_bike\" \"docked_bike\" ...\n",
      " $ started_at        : chr  \"2020-07-09 15:22:02\" \"2020-07-24 23:56:30\" \"2020-07-08 19:49:07\" \"2020-07-17 19:06:42\" ...\n",
      " $ ended_at          : chr  \"2020-07-09 15:25:52\" \"2020-07-25 00:20:17\" \"2020-07-08 19:56:22\" \"2020-07-17 19:27:38\" ...\n",
      " $ start_station_name: chr  \"Ritchie Ct & Banks St\" \"Halsted St & Roscoe St\" \"Lake Shore Dr & Diversey Pkwy\" \"LaSalle St & Illinois St\" ...\n",
      " $ start_station_id  : int  180 299 329 181 268 635 113 211 176 31 ...\n",
      " $ end_station_name  : chr  \"Wells St & Evergreen Ave\" \"Broadway & Ridge Ave\" \"Clark St & Wellington Ave\" \"Clark St & Armitage Ave\" ...\n",
      " $ end_station_id    : int  291 461 156 94 301 289 140 31 191 142 ...\n",
      " $ start_lat         : num  41.9 41.9 41.9 41.9 41.9 ...\n",
      " $ start_lng         : num  -87.6 -87.6 -87.6 -87.6 -87.6 ...\n",
      " $ end_lat           : num  41.9 42 41.9 41.9 41.9 ...\n",
      " $ end_lng           : num  -87.6 -87.7 -87.6 -87.6 -87.6 ...\n",
      " $ member_casual     : chr  \"member\" \"member\" \"casual\" \"casual\" ...\n",
      "'data.frame':\t622361 obs. of  13 variables:\n",
      " $ ride_id           : chr  \"322BD23D287743ED\" \"2A3AEF1AB9054D8B\" \"67DC1D133E8B5816\" \"C79FBBD412E578A7\" ...\n",
      " $ rideable_type     : chr  \"docked_bike\" \"electric_bike\" \"electric_bike\" \"electric_bike\" ...\n",
      " $ started_at        : chr  \"2020-08-20 18:08:14\" \"2020-08-27 18:46:04\" \"2020-08-26 19:44:14\" \"2020-08-27 12:05:41\" ...\n",
      " $ ended_at          : chr  \"2020-08-20 18:17:51\" \"2020-08-27 19:54:51\" \"2020-08-26 21:53:07\" \"2020-08-27 12:53:45\" ...\n",
      " $ start_station_name: chr  \"Lake Shore Dr & Diversey Pkwy\" \"Michigan Ave & 14th St\" \"Columbus Dr & Randolph St\" \"Daley Center Plaza\" ...\n",
      " $ start_station_id  : int  329 168 195 81 658 658 196 67 153 177 ...\n",
      " $ end_station_name  : chr  \"Clark St & Lincoln Ave\" \"Michigan Ave & 14th St\" \"State St & Randolph St\" \"State St & Kinzie St\" ...\n",
      " $ end_station_id    : int  141 168 44 47 658 658 49 229 225 305 ...\n",
      " $ start_lat         : num  41.9 41.9 41.9 41.9 41.9 ...\n",
      " $ start_lng         : num  -87.6 -87.6 -87.6 -87.6 -87.7 ...\n",
      " $ end_lat           : num  41.9 41.9 41.9 41.9 41.9 ...\n",
      " $ end_lng           : num  -87.6 -87.6 -87.6 -87.6 -87.7 ...\n",
      " $ member_casual     : chr  \"member\" \"casual\" \"casual\" \"casual\" ...\n",
      "'data.frame':\t532958 obs. of  13 variables:\n",
      " $ ride_id           : chr  \"2B22BD5F95FB2629\" \"A7FB70B4AFC6CAF2\" \"86057FA01BAC778E\" \"57F6DC9A153DB98C\" ...\n",
      " $ rideable_type     : chr  \"electric_bike\" \"electric_bike\" \"electric_bike\" \"electric_bike\" ...\n",
      " $ started_at        : chr  \"2020-09-17 14:27:11\" \"2020-09-17 15:07:31\" \"2020-09-17 15:09:04\" \"2020-09-17 18:10:46\" ...\n",
      " $ ended_at          : chr  \"2020-09-17 14:44:24\" \"2020-09-17 15:07:45\" \"2020-09-17 15:09:35\" \"2020-09-17 18:35:49\" ...\n",
      " $ start_station_name: chr  \"Michigan Ave & Lake St\" \"W Oakdale Ave & N Broadway\" \"W Oakdale Ave & N Broadway\" \"Ashland Ave & Belle Plaine Ave\" ...\n",
      " $ start_station_id  : int  52 NA NA 246 24 94 291 NA NA NA ...\n",
      " $ end_station_name  : chr  \"Green St & Randolph St\" \"W Oakdale Ave & N Broadway\" \"W Oakdale Ave & N Broadway\" \"Montrose Harbor\" ...\n",
      " $ end_station_id    : int  112 NA NA 249 24 NA 256 NA NA NA ...\n",
      " $ start_lat         : num  41.9 41.9 41.9 42 41.9 ...\n",
      " $ start_lng         : num  -87.6 -87.6 -87.6 -87.7 -87.6 ...\n",
      " $ end_lat           : num  41.9 41.9 41.9 42 41.9 ...\n",
      " $ end_lng           : num  -87.6 -87.6 -87.6 -87.6 -87.6 ...\n",
      " $ member_casual     : chr  \"casual\" \"casual\" \"casual\" \"casual\" ...\n",
      "'data.frame':\t388653 obs. of  13 variables:\n",
      " $ ride_id           : chr  \"ACB6B40CF5B9044C\" \"DF450C72FD109C01\" \"B6396B54A15AC0DF\" \"44A4AEE261B9E854\" ...\n",
      " $ rideable_type     : chr  \"electric_bike\" \"electric_bike\" \"electric_bike\" \"electric_bike\" ...\n",
      " $ started_at        : chr  \"2020-10-31 19:39:43\" \"2020-10-31 23:50:08\" \"2020-10-31 23:00:01\" \"2020-10-31 22:16:43\" ...\n",
      " $ ended_at          : chr  \"2020-10-31 19:57:12\" \"2020-11-01 00:04:16\" \"2020-10-31 23:08:22\" \"2020-10-31 22:19:35\" ...\n",
      " $ start_station_name: chr  \"Lakeview Ave & Fullerton Pkwy\" \"Southport Ave & Waveland Ave\" \"Stony Island Ave & 67th St\" \"Clark St & Grace St\" ...\n",
      " $ start_station_id  : int  313 227 102 165 190 359 313 125 NA 174 ...\n",
      " $ end_station_name  : chr  \"Rush St & Hubbard St\" \"Kedzie Ave & Milwaukee Ave\" \"University Ave & 57th St\" \"Broadway & Sheridan Rd\" ...\n",
      " $ end_station_id    : int  125 260 423 256 185 53 125 313 199 635 ...\n",
      " $ start_lat         : num  41.9 41.9 41.8 42 41.9 ...\n",
      " $ start_lng         : num  -87.6 -87.7 -87.6 -87.7 -87.7 ...\n",
      " $ end_lat           : num  41.9 41.9 41.8 42 41.9 ...\n",
      " $ end_lng           : num  -87.6 -87.7 -87.6 -87.7 -87.7 ...\n",
      " $ member_casual     : chr  \"casual\" \"casual\" \"casual\" \"casual\" ...\n",
      "'data.frame':\t259716 obs. of  13 variables:\n",
      " $ ride_id           : chr  \"BD0A6FF6FFF9B921\" \"96A7A7A4BDE4F82D\" \"C61526D06582BDC5\" \"E533E89C32080B9E\" ...\n",
      " $ rideable_type     : chr  \"electric_bike\" \"electric_bike\" \"electric_bike\" \"electric_bike\" ...\n",
      " $ started_at        : chr  \"2020-11-01 13:36:00\" \"2020-11-01 10:03:26\" \"2020-11-01 00:34:05\" \"2020-11-01 00:45:16\" ...\n",
      " $ ended_at          : chr  \"2020-11-01 13:45:40\" \"2020-11-01 10:14:45\" \"2020-11-01 01:03:06\" \"2020-11-01 00:54:31\" ...\n",
      " $ start_station_name: chr  \"Dearborn St & Erie St\" \"Franklin St & Illinois St\" \"Lake Shore Dr & Monroe St\" \"Leavitt St & Chicago Ave\" ...\n",
      " $ start_station_id  : int  110 672 76 659 2 72 76 NA 58 394 ...\n",
      " $ end_station_name  : chr  \"St. Clair St & Erie St\" \"Noble St & Milwaukee Ave\" \"Federal St & Polk St\" \"Stave St & Armitage Ave\" ...\n",
      " $ end_station_id    : int  211 29 41 185 2 76 72 NA 288 273 ...\n",
      " $ start_lat         : num  41.9 41.9 41.9 41.9 41.9 ...\n",
      " $ start_lng         : num  -87.6 -87.6 -87.6 -87.7 -87.6 ...\n",
      " $ end_lat           : num  41.9 41.9 41.9 41.9 41.9 ...\n",
      " $ end_lng           : num  -87.6 -87.7 -87.6 -87.7 -87.6 ...\n",
      " $ member_casual     : chr  \"casual\" \"casual\" \"casual\" \"casual\" ...\n",
      "'data.frame':\t131573 obs. of  13 variables:\n",
      " $ ride_id           : chr  \"70B6A9A437D4C30D\" \"158A465D4E74C54A\" \"5262016E0F1F2F9A\" \"BE119628E44F871E\" ...\n",
      " $ rideable_type     : chr  \"classic_bike\" \"electric_bike\" \"electric_bike\" \"electric_bike\" ...\n",
      " $ started_at        : chr  \"2020-12-27 12:44:29\" \"2020-12-18 17:37:15\" \"2020-12-15 15:04:33\" \"2020-12-15 15:54:18\" ...\n",
      " $ ended_at          : chr  \"2020-12-27 12:55:06\" \"2020-12-18 17:44:19\" \"2020-12-15 15:11:28\" \"2020-12-15 16:00:11\" ...\n",
      " $ start_station_name: chr  \"Aberdeen St & Jackson Blvd\" \"\" \"\" \"\" ...\n",
      " $ start_station_id  : chr  \"13157\" \"\" \"\" \"\" ...\n",
      " $ end_station_name  : chr  \"Desplaines St & Kinzie St\" \"\" \"\" \"\" ...\n",
      " $ end_station_id    : chr  \"TA1306000003\" \"\" \"\" \"\" ...\n",
      " $ start_lat         : num  41.9 41.9 41.9 41.9 41.8 ...\n",
      " $ start_lng         : num  -87.7 -87.7 -87.7 -87.7 -87.6 ...\n",
      " $ end_lat           : num  41.9 41.9 41.9 41.9 41.8 ...\n",
      " $ end_lng           : num  -87.6 -87.7 -87.7 -87.7 -87.6 ...\n",
      " $ member_casual     : chr  \"member\" \"member\" \"member\" \"member\" ...\n",
      "'data.frame':\t96834 obs. of  13 variables:\n",
      " $ ride_id           : chr  \"E19E6F1B8D4C42ED\" \"DC88F20C2C55F27F\" \"EC45C94683FE3F27\" \"4FA453A75AE377DB\" ...\n",
      " $ rideable_type     : chr  \"electric_bike\" \"electric_bike\" \"electric_bike\" \"electric_bike\" ...\n",
      " $ started_at        : chr  \"2021-01-23 16:14:19\" \"2021-01-27 18:43:08\" \"2021-01-21 22:35:54\" \"2021-01-07 13:31:13\" ...\n",
      " $ ended_at          : chr  \"2021-01-23 16:24:44\" \"2021-01-27 18:47:12\" \"2021-01-21 22:37:14\" \"2021-01-07 13:42:55\" ...\n",
      " $ start_station_name: chr  \"California Ave & Cortez St\" \"California Ave & Cortez St\" \"California Ave & Cortez St\" \"California Ave & Cortez St\" ...\n",
      " $ start_station_id  : chr  \"17660\" \"17660\" \"17660\" \"17660\" ...\n",
      " $ end_station_name  : chr  \"\" \"\" \"\" \"\" ...\n",
      " $ end_station_id    : chr  \"\" \"\" \"\" \"\" ...\n",
      " $ start_lat         : num  41.9 41.9 41.9 41.9 41.9 ...\n",
      " $ start_lng         : num  -87.7 -87.7 -87.7 -87.7 -87.7 ...\n",
      " $ end_lat           : num  41.9 41.9 41.9 41.9 41.9 ...\n",
      " $ end_lng           : num  -87.7 -87.7 -87.7 -87.7 -87.7 ...\n",
      " $ member_casual     : chr  \"member\" \"member\" \"member\" \"member\" ...\n",
      "'data.frame':\t49622 obs. of  13 variables:\n",
      " $ ride_id           : chr  \"89E7AA6C29227EFF\" \"0FEFDE2603568365\" \"E6159D746B2DBB91\" \"B32D3199F1C2E75B\" ...\n",
      " $ rideable_type     : chr  \"classic_bike\" \"classic_bike\" \"electric_bike\" \"classic_bike\" ...\n",
      " $ started_at        : chr  \"2021-02-12 16:14:56\" \"2021-02-14 17:52:38\" \"2021-02-09 19:10:18\" \"2021-02-02 17:49:41\" ...\n",
      " $ ended_at          : chr  \"2021-02-12 16:21:43\" \"2021-02-14 18:12:09\" \"2021-02-09 19:19:10\" \"2021-02-02 17:54:06\" ...\n",
      " $ start_station_name: chr  \"Glenwood Ave & Touhy Ave\" \"Glenwood Ave & Touhy Ave\" \"Clark St & Lake St\" \"Wood St & Chicago Ave\" ...\n",
      " $ start_station_id  : chr  \"525\" \"525\" \"KA1503000012\" \"637\" ...\n",
      " $ end_station_name  : chr  \"Sheridan Rd & Columbia Ave\" \"Bosworth Ave & Howard St\" \"State St & Randolph St\" \"Honore St & Division St\" ...\n",
      " $ end_station_id    : chr  \"660\" \"16806\" \"TA1305000029\" \"TA1305000034\" ...\n",
      " $ start_lat         : num  42 42 41.9 41.9 41.8 ...\n",
      " $ start_lng         : num  -87.7 -87.7 -87.6 -87.7 -87.6 ...\n",
      " $ end_lat           : num  42 42 41.9 41.9 41.8 ...\n",
      " $ end_lng           : num  -87.7 -87.7 -87.6 -87.7 -87.6 ...\n",
      " $ member_casual     : chr  \"member\" \"casual\" \"member\" \"member\" ...\n",
      "'data.frame':\t228496 obs. of  13 variables:\n",
      " $ ride_id           : chr  \"CFA86D4455AA1030\" \"30D9DC61227D1AF3\" \"846D87A15682A284\" \"994D05AA75A168F2\" ...\n",
      " $ rideable_type     : chr  \"classic_bike\" \"classic_bike\" \"classic_bike\" \"classic_bike\" ...\n",
      " $ started_at        : chr  \"2021-03-16 08:32:30\" \"2021-03-28 01:26:28\" \"2021-03-11 21:17:29\" \"2021-03-11 13:26:42\" ...\n",
      " $ ended_at          : chr  \"2021-03-16 08:36:34\" \"2021-03-28 01:36:55\" \"2021-03-11 21:33:53\" \"2021-03-11 13:55:41\" ...\n",
      " $ start_station_name: chr  \"Humboldt Blvd & Armitage Ave\" \"Humboldt Blvd & Armitage Ave\" \"Shields Ave & 28th Pl\" \"Winthrop Ave & Lawrence Ave\" ...\n",
      " $ start_station_id  : chr  \"15651\" \"15651\" \"15443\" \"TA1308000021\" ...\n",
      " $ end_station_name  : chr  \"Stave St & Armitage Ave\" \"Central Park Ave & Bloomingdale Ave\" \"Halsted St & 35th St\" \"Broadway & Sheridan Rd\" ...\n",
      " $ end_station_id    : chr  \"13266\" \"18017\" \"TA1308000043\" \"13323\" ...\n",
      " $ start_lat         : num  41.9 41.9 41.8 42 42 ...\n",
      " $ start_lng         : num  -87.7 -87.7 -87.6 -87.7 -87.7 ...\n",
      " $ end_lat           : num  41.9 41.9 41.8 42 42.1 ...\n",
      " $ end_lng           : num  -87.7 -87.7 -87.6 -87.6 -87.7 ...\n",
      " $ member_casual     : chr  \"casual\" \"casual\" \"casual\" \"casual\" ...\n"
     ]
    }
   ],
   "source": [
    "## Check data structures and data types for all data frames\n",
    "str(apr20)\n",
    "str(may20)\n",
    "str(june20)\n",
    "str(july20)\n",
    "str(aug20)\n",
    "str(sep20)\n",
    "str(oct20)\n",
    "str(nov20)\n",
    "str(dec20)\n",
    "str(jan21)\n",
    "str(feb21)\n",
    "str(mar21)"
   ]
  },
  {
   "cell_type": "markdown",
   "id": "dd7e00a8",
   "metadata": {
    "papermill": {
     "duration": 0.04911,
     "end_time": "2021-10-12T18:13:43.021421",
     "exception": false,
     "start_time": "2021-10-12T18:13:42.972311",
     "status": "completed"
    },
    "tags": []
   },
   "source": [
    "<h3> Process </h3>\n",
    "\n",
    "<h4> Data transformation and cleaning </h4>\n",
    "start_station_id and end_station_id colummns have inconsistent data type in dec20, jan21, feb21 and mar21 datasets.\n",
    "They need to be converted from char to int. We will use mutate() function to change the data type of these columns.\n"
   ]
  },
  {
   "cell_type": "code",
   "execution_count": 5,
   "id": "ce194abf",
   "metadata": {
    "execution": {
     "iopub.execute_input": "2021-10-12T18:13:43.126190Z",
     "iopub.status.busy": "2021-10-12T18:13:43.124455Z",
     "iopub.status.idle": "2021-10-12T18:13:43.373896Z",
     "shell.execute_reply": "2021-10-12T18:13:43.372161Z"
    },
    "papermill": {
     "duration": 0.303296,
     "end_time": "2021-10-12T18:13:43.374081",
     "exception": false,
     "start_time": "2021-10-12T18:13:43.070785",
     "status": "completed"
    },
    "tags": []
   },
   "outputs": [
    {
     "name": "stderr",
     "output_type": "stream",
     "text": [
      "Warning message in eval(expr, envir, enclos):\n",
      "“NAs introduced by coercion”\n",
      "Warning message in eval(expr, envir, enclos):\n",
      "“NAs introduced by coercion”\n",
      "Warning message in eval(expr, envir, enclos):\n",
      "“NAs introduced by coercion”\n",
      "Warning message in eval(expr, envir, enclos):\n",
      "“NAs introduced by coercion”\n",
      "Warning message in eval(expr, envir, enclos):\n",
      "“NAs introduced by coercion”\n",
      "Warning message in eval(expr, envir, enclos):\n",
      "“NAs introduced by coercion”\n",
      "Warning message in eval(expr, envir, enclos):\n",
      "“NAs introduced by coercion”\n",
      "Warning message in eval(expr, envir, enclos):\n",
      "“NAs introduced by coercion”\n"
     ]
    }
   ],
   "source": [
    "#converting the start station id  datatype to integer\n",
    "\n",
    "dec20$start_station_id <- as.integer(dec20$start_station_id)\n",
    "jan21$start_station_id <- as.integer(jan21$start_station_id)\n",
    "feb21$start_station_id <- as.integer(feb21$start_station_id)\n",
    "mar21$start_station_id <- as.integer(mar21$start_station_id)\n",
    "\n",
    "\n",
    "\n",
    "#converting the end station id  datatype to integer\n",
    "\n",
    "dec20$end_station_id <- as.integer(dec20$end_station_id)\n",
    "jan21$end_station_id <- as.integer(jan21$end_station_id)\n",
    "feb21$end_station_id <- as.integer(feb21$end_station_id)\n",
    "mar21$end_station_id <- as.integer(mar21$end_station_id)\n"
   ]
  },
  {
   "cell_type": "code",
   "execution_count": 6,
   "id": "d0f761e2",
   "metadata": {
    "execution": {
     "iopub.execute_input": "2021-10-12T18:13:43.485184Z",
     "iopub.status.busy": "2021-10-12T18:13:43.483429Z",
     "iopub.status.idle": "2021-10-12T18:13:43.550068Z",
     "shell.execute_reply": "2021-10-12T18:13:43.548378Z"
    },
    "papermill": {
     "duration": 0.123519,
     "end_time": "2021-10-12T18:13:43.550249",
     "exception": false,
     "start_time": "2021-10-12T18:13:43.426730",
     "status": "completed"
    },
    "tags": []
   },
   "outputs": [
    {
     "data": {
      "text/html": [
       "TRUE"
      ],
      "text/latex": [
       "TRUE"
      ],
      "text/markdown": [
       "TRUE"
      ],
      "text/plain": [
       "[1] TRUE"
      ]
     },
     "metadata": {},
     "output_type": "display_data"
    },
    {
     "data": {
      "text/html": [
       "TRUE"
      ],
      "text/latex": [
       "TRUE"
      ],
      "text/markdown": [
       "TRUE"
      ],
      "text/plain": [
       "[1] TRUE"
      ]
     },
     "metadata": {},
     "output_type": "display_data"
    },
    {
     "data": {
      "text/html": [
       "TRUE"
      ],
      "text/latex": [
       "TRUE"
      ],
      "text/markdown": [
       "TRUE"
      ],
      "text/plain": [
       "[1] TRUE"
      ]
     },
     "metadata": {},
     "output_type": "display_data"
    },
    {
     "data": {
      "text/html": [
       "TRUE"
      ],
      "text/latex": [
       "TRUE"
      ],
      "text/markdown": [
       "TRUE"
      ],
      "text/plain": [
       "[1] TRUE"
      ]
     },
     "metadata": {},
     "output_type": "display_data"
    },
    {
     "data": {
      "text/html": [
       "TRUE"
      ],
      "text/latex": [
       "TRUE"
      ],
      "text/markdown": [
       "TRUE"
      ],
      "text/plain": [
       "[1] TRUE"
      ]
     },
     "metadata": {},
     "output_type": "display_data"
    },
    {
     "data": {
      "text/html": [
       "TRUE"
      ],
      "text/latex": [
       "TRUE"
      ],
      "text/markdown": [
       "TRUE"
      ],
      "text/plain": [
       "[1] TRUE"
      ]
     },
     "metadata": {},
     "output_type": "display_data"
    },
    {
     "data": {
      "text/html": [
       "TRUE"
      ],
      "text/latex": [
       "TRUE"
      ],
      "text/markdown": [
       "TRUE"
      ],
      "text/plain": [
       "[1] TRUE"
      ]
     },
     "metadata": {},
     "output_type": "display_data"
    },
    {
     "data": {
      "text/html": [
       "TRUE"
      ],
      "text/latex": [
       "TRUE"
      ],
      "text/markdown": [
       "TRUE"
      ],
      "text/plain": [
       "[1] TRUE"
      ]
     },
     "metadata": {},
     "output_type": "display_data"
    }
   ],
   "source": [
    "# verify if the data type has changed\n",
    "is.integer(dec20$start_station_id)\n",
    "is.integer(dec20$end_station_id)\n",
    "is.integer(jan21$start_station_id)\n",
    "is.integer(jan21$end_station_id)\n",
    "is.integer(feb21$start_station_id)\n",
    "is.integer(feb21$end_station_id)\n",
    "is.integer(mar21$start_station_id)\n",
    "is.integer(mar21$end_station_id)"
   ]
  },
  {
   "cell_type": "code",
   "execution_count": 7,
   "id": "1fcd6e66",
   "metadata": {
    "execution": {
     "iopub.execute_input": "2021-10-12T18:13:43.672843Z",
     "iopub.status.busy": "2021-10-12T18:13:43.670075Z",
     "iopub.status.idle": "2021-10-12T18:14:02.762448Z",
     "shell.execute_reply": "2021-10-12T18:14:02.760243Z"
    },
    "papermill": {
     "duration": 19.154288,
     "end_time": "2021-10-12T18:14:02.762681",
     "exception": false,
     "start_time": "2021-10-12T18:13:43.608393",
     "status": "completed"
    },
    "tags": []
   },
   "outputs": [
    {
     "name": "stdout",
     "output_type": "stream",
     "text": [
      "'data.frame':\t3489748 obs. of  13 variables:\n",
      " $ ride_id           : chr  \"A847FADBBC638E45\" \"5405B80E996FF60D\" \"5DD24A79A4E006F4\" \"2A59BBDF5CDBA725\" ...\n",
      " $ rideable_type     : chr  \"docked_bike\" \"docked_bike\" \"docked_bike\" \"docked_bike\" ...\n",
      " $ started_at        : chr  \"2020-04-26 17:45:14\" \"2020-04-17 17:08:54\" \"2020-04-01 17:54:13\" \"2020-04-07 12:50:19\" ...\n",
      " $ ended_at          : chr  \"2020-04-26 18:12:03\" \"2020-04-17 17:17:03\" \"2020-04-01 18:08:36\" \"2020-04-07 13:02:31\" ...\n",
      " $ start_station_name: chr  \"Eckhart Park\" \"Drake Ave & Fullerton Ave\" \"McClurg Ct & Erie St\" \"California Ave & Division St\" ...\n",
      " $ start_station_id  : int  86 503 142 216 125 173 35 434 627 377 ...\n",
      " $ end_station_name  : chr  \"Lincoln Ave & Diversey Pkwy\" \"Kosciuszko Park\" \"Indiana Ave & Roosevelt Rd\" \"Wood St & Augusta Blvd\" ...\n",
      " $ end_station_id    : int  152 499 255 657 323 35 635 382 359 508 ...\n",
      " $ start_lat         : num  41.9 41.9 41.9 41.9 41.9 ...\n",
      " $ start_lng         : num  -87.7 -87.7 -87.6 -87.7 -87.6 ...\n",
      " $ end_lat           : num  41.9 41.9 41.9 41.9 42 ...\n",
      " $ end_lng           : num  -87.7 -87.7 -87.6 -87.7 -87.7 ...\n",
      " $ member_casual     : chr  \"member\" \"member\" \"member\" \"member\" ...\n"
     ]
    },
    {
     "data": {
      "text/html": [
       "<style>\n",
       ".list-inline {list-style: none; margin:0; padding: 0}\n",
       ".list-inline>li {display: inline-block}\n",
       ".list-inline>li:not(:last-child)::after {content: \"\\00b7\"; padding: 0 .5ex}\n",
       "</style>\n",
       "<ol class=list-inline><li>'ride_id'</li><li>'rideable_type'</li><li>'started_at'</li><li>'ended_at'</li><li>'start_station_name'</li><li>'start_station_id'</li><li>'end_station_name'</li><li>'end_station_id'</li><li>'start_lat'</li><li>'start_lng'</li><li>'end_lat'</li><li>'end_lng'</li><li>'member_casual'</li></ol>\n"
      ],
      "text/latex": [
       "\\begin{enumerate*}\n",
       "\\item 'ride\\_id'\n",
       "\\item 'rideable\\_type'\n",
       "\\item 'started\\_at'\n",
       "\\item 'ended\\_at'\n",
       "\\item 'start\\_station\\_name'\n",
       "\\item 'start\\_station\\_id'\n",
       "\\item 'end\\_station\\_name'\n",
       "\\item 'end\\_station\\_id'\n",
       "\\item 'start\\_lat'\n",
       "\\item 'start\\_lng'\n",
       "\\item 'end\\_lat'\n",
       "\\item 'end\\_lng'\n",
       "\\item 'member\\_casual'\n",
       "\\end{enumerate*}\n"
      ],
      "text/markdown": [
       "1. 'ride_id'\n",
       "2. 'rideable_type'\n",
       "3. 'started_at'\n",
       "4. 'ended_at'\n",
       "5. 'start_station_name'\n",
       "6. 'start_station_id'\n",
       "7. 'end_station_name'\n",
       "8. 'end_station_id'\n",
       "9. 'start_lat'\n",
       "10. 'start_lng'\n",
       "11. 'end_lat'\n",
       "12. 'end_lng'\n",
       "13. 'member_casual'\n",
       "\n",
       "\n"
      ],
      "text/plain": [
       " [1] \"ride_id\"            \"rideable_type\"      \"started_at\"        \n",
       " [4] \"ended_at\"           \"start_station_name\" \"start_station_id\"  \n",
       " [7] \"end_station_name\"   \"end_station_id\"     \"start_lat\"         \n",
       "[10] \"start_lng\"          \"end_lat\"            \"end_lng\"           \n",
       "[13] \"member_casual\"     "
      ]
     },
     "metadata": {},
     "output_type": "display_data"
    },
    {
     "name": "stdout",
     "output_type": "stream",
     "text": [
      "Rows: 3,489,748\n",
      "Columns: 13\n",
      "$ ride_id            \u001b[3m\u001b[90m<chr>\u001b[39m\u001b[23m \"A847FADBBC638E45\", \"5405B80E996FF60D\", \"5DD24A79A4…\n",
      "$ rideable_type      \u001b[3m\u001b[90m<chr>\u001b[39m\u001b[23m \"docked_bike\", \"docked_bike\", \"docked_bike\", \"docke…\n",
      "$ started_at         \u001b[3m\u001b[90m<chr>\u001b[39m\u001b[23m \"2020-04-26 17:45:14\", \"2020-04-17 17:08:54\", \"2020…\n",
      "$ ended_at           \u001b[3m\u001b[90m<chr>\u001b[39m\u001b[23m \"2020-04-26 18:12:03\", \"2020-04-17 17:17:03\", \"2020…\n",
      "$ start_station_name \u001b[3m\u001b[90m<chr>\u001b[39m\u001b[23m \"Eckhart Park\", \"Drake Ave & Fullerton Ave\", \"McClu…\n",
      "$ start_station_id   \u001b[3m\u001b[90m<int>\u001b[39m\u001b[23m 86, 503, 142, 216, 125, 173, 35, 434, 627, 377, 508…\n",
      "$ end_station_name   \u001b[3m\u001b[90m<chr>\u001b[39m\u001b[23m \"Lincoln Ave & Diversey Pkwy\", \"Kosciuszko Park\", \"…\n",
      "$ end_station_id     \u001b[3m\u001b[90m<int>\u001b[39m\u001b[23m 152, 499, 255, 657, 323, 35, 635, 382, 359, 508, 37…\n",
      "$ start_lat          \u001b[3m\u001b[90m<dbl>\u001b[39m\u001b[23m 41.8964, 41.9244, 41.8945, 41.9030, 41.8902, 41.896…\n",
      "$ start_lng          \u001b[3m\u001b[90m<dbl>\u001b[39m\u001b[23m -87.6610, -87.7154, -87.6179, -87.6975, -87.6262, -…\n",
      "$ end_lat            \u001b[3m\u001b[90m<dbl>\u001b[39m\u001b[23m 41.9322, 41.9306, 41.8679, 41.8992, 41.9695, 41.892…\n",
      "$ end_lng            \u001b[3m\u001b[90m<dbl>\u001b[39m\u001b[23m -87.6586, -87.7238, -87.6230, -87.6722, -87.6547, -…\n",
      "$ member_casual      \u001b[3m\u001b[90m<chr>\u001b[39m\u001b[23m \"member\", \"member\", \"member\", \"member\", \"casual\", \"…\n"
     ]
    }
   ],
   "source": [
    "# merge all 12 months dataset into one\n",
    "\n",
    "all_trips <- rbind(apr20,may20,june20,july20,aug20,sep20,oct20,nov20,dec20,jan21,feb21,mar21)\n",
    "\n",
    "str(all_trips)\n",
    "\n",
    "colnames(all_trips)\n",
    "\n",
    "glimpse(all_trips)"
   ]
  },
  {
   "cell_type": "markdown",
   "id": "60ceabab",
   "metadata": {
    "papermill": {
     "duration": 0.058934,
     "end_time": "2021-10-12T18:14:02.879535",
     "exception": false,
     "start_time": "2021-10-12T18:14:02.820601",
     "status": "completed"
    },
    "tags": []
   },
   "source": [
    "<h4>Creating a new dataset</h4> <br>\n",
    "\n",
    "  **excluding the start_lat, end_lng,end_lat,end_lng and creating the version 2 of all_trips**"
   ]
  },
  {
   "cell_type": "code",
   "execution_count": 8,
   "id": "6414fde7",
   "metadata": {
    "execution": {
     "iopub.execute_input": "2021-10-12T18:14:03.000465Z",
     "iopub.status.busy": "2021-10-12T18:14:02.998929Z",
     "iopub.status.idle": "2021-10-12T18:14:03.028574Z",
     "shell.execute_reply": "2021-10-12T18:14:03.027313Z"
    },
    "papermill": {
     "duration": 0.091747,
     "end_time": "2021-10-12T18:14:03.028716",
     "exception": false,
     "start_time": "2021-10-12T18:14:02.936969",
     "status": "completed"
    },
    "tags": []
   },
   "outputs": [],
   "source": [
    "all_trips_v2 <- all_trips %>%\n",
    "  select(-(start_lat:end_lng))\n"
   ]
  },
  {
   "cell_type": "code",
   "execution_count": 9,
   "id": "acd67f7c",
   "metadata": {
    "execution": {
     "iopub.execute_input": "2021-10-12T18:14:03.152470Z",
     "iopub.status.busy": "2021-10-12T18:14:03.151018Z",
     "iopub.status.idle": "2021-10-12T18:14:03.176471Z",
     "shell.execute_reply": "2021-10-12T18:14:03.174552Z"
    },
    "papermill": {
     "duration": 0.087472,
     "end_time": "2021-10-12T18:14:03.176663",
     "exception": false,
     "start_time": "2021-10-12T18:14:03.089191",
     "status": "completed"
    },
    "tags": []
   },
   "outputs": [
    {
     "name": "stdout",
     "output_type": "stream",
     "text": [
      "Rows: 3,489,748\n",
      "Columns: 9\n",
      "$ ride_id            \u001b[3m\u001b[90m<chr>\u001b[39m\u001b[23m \"A847FADBBC638E45\", \"5405B80E996FF60D\", \"5DD24A79A4…\n",
      "$ rideable_type      \u001b[3m\u001b[90m<chr>\u001b[39m\u001b[23m \"docked_bike\", \"docked_bike\", \"docked_bike\", \"docke…\n",
      "$ started_at         \u001b[3m\u001b[90m<chr>\u001b[39m\u001b[23m \"2020-04-26 17:45:14\", \"2020-04-17 17:08:54\", \"2020…\n",
      "$ ended_at           \u001b[3m\u001b[90m<chr>\u001b[39m\u001b[23m \"2020-04-26 18:12:03\", \"2020-04-17 17:17:03\", \"2020…\n",
      "$ start_station_name \u001b[3m\u001b[90m<chr>\u001b[39m\u001b[23m \"Eckhart Park\", \"Drake Ave & Fullerton Ave\", \"McClu…\n",
      "$ start_station_id   \u001b[3m\u001b[90m<int>\u001b[39m\u001b[23m 86, 503, 142, 216, 125, 173, 35, 434, 627, 377, 508…\n",
      "$ end_station_name   \u001b[3m\u001b[90m<chr>\u001b[39m\u001b[23m \"Lincoln Ave & Diversey Pkwy\", \"Kosciuszko Park\", \"…\n",
      "$ end_station_id     \u001b[3m\u001b[90m<int>\u001b[39m\u001b[23m 152, 499, 255, 657, 323, 35, 635, 382, 359, 508, 37…\n",
      "$ member_casual      \u001b[3m\u001b[90m<chr>\u001b[39m\u001b[23m \"member\", \"member\", \"member\", \"member\", \"casual\", \"…\n"
     ]
    }
   ],
   "source": [
    "glimpse(all_trips_v2)"
   ]
  },
  {
   "cell_type": "code",
   "execution_count": 10,
   "id": "8e3ac069",
   "metadata": {
    "execution": {
     "iopub.execute_input": "2021-10-12T18:14:03.301010Z",
     "iopub.status.busy": "2021-10-12T18:14:03.299085Z",
     "iopub.status.idle": "2021-10-12T18:14:10.097829Z",
     "shell.execute_reply": "2021-10-12T18:14:10.096489Z"
    },
    "papermill": {
     "duration": 6.862371,
     "end_time": "2021-10-12T18:14:10.097987",
     "exception": false,
     "start_time": "2021-10-12T18:14:03.235616",
     "status": "completed"
    },
    "tags": []
   },
   "outputs": [],
   "source": [
    "\n",
    "# Converting character format into Date & Time format \n",
    "all_trips_v2 <- mutate(all_trips_v2, started_at = ymd_hms(started_at), ended_at = ymd_hms(ended_at))"
   ]
  },
  {
   "cell_type": "code",
   "execution_count": 11,
   "id": "cccaa011",
   "metadata": {
    "execution": {
     "iopub.execute_input": "2021-10-12T18:14:10.222902Z",
     "iopub.status.busy": "2021-10-12T18:14:10.220869Z",
     "iopub.status.idle": "2021-10-12T18:14:10.259634Z",
     "shell.execute_reply": "2021-10-12T18:14:10.257923Z"
    },
    "papermill": {
     "duration": 0.102292,
     "end_time": "2021-10-12T18:14:10.259780",
     "exception": false,
     "start_time": "2021-10-12T18:14:10.157488",
     "status": "completed"
    },
    "tags": []
   },
   "outputs": [
    {
     "name": "stdout",
     "output_type": "stream",
     "text": [
      "'data.frame':\t3489748 obs. of  9 variables:\n",
      " $ ride_id           : chr  \"A847FADBBC638E45\" \"5405B80E996FF60D\" \"5DD24A79A4E006F4\" \"2A59BBDF5CDBA725\" ...\n",
      " $ rideable_type     : chr  \"docked_bike\" \"docked_bike\" \"docked_bike\" \"docked_bike\" ...\n",
      " $ started_at        : POSIXct, format: \"2020-04-26 17:45:14\" \"2020-04-17 17:08:54\" ...\n",
      " $ ended_at          : POSIXct, format: \"2020-04-26 18:12:03\" \"2020-04-17 17:17:03\" ...\n",
      " $ start_station_name: chr  \"Eckhart Park\" \"Drake Ave & Fullerton Ave\" \"McClurg Ct & Erie St\" \"California Ave & Division St\" ...\n",
      " $ start_station_id  : int  86 503 142 216 125 173 35 434 627 377 ...\n",
      " $ end_station_name  : chr  \"Lincoln Ave & Diversey Pkwy\" \"Kosciuszko Park\" \"Indiana Ave & Roosevelt Rd\" \"Wood St & Augusta Blvd\" ...\n",
      " $ end_station_id    : int  152 499 255 657 323 35 635 382 359 508 ...\n",
      " $ member_casual     : chr  \"member\" \"member\" \"member\" \"member\" ...\n"
     ]
    }
   ],
   "source": [
    "str(all_trips_v2)"
   ]
  },
  {
   "cell_type": "markdown",
   "id": "f5642a4e",
   "metadata": {
    "papermill": {
     "duration": 0.060564,
     "end_time": "2021-10-12T18:14:10.382201",
     "exception": false,
     "start_time": "2021-10-12T18:14:10.321637",
     "status": "completed"
    },
    "tags": []
   },
   "source": [
    "<h4>Adding Add new columns to data frame </h4>"
   ]
  },
  {
   "cell_type": "code",
   "execution_count": 12,
   "id": "99cc0cc7",
   "metadata": {
    "execution": {
     "iopub.execute_input": "2021-10-12T18:14:10.511195Z",
     "iopub.status.busy": "2021-10-12T18:14:10.509089Z",
     "iopub.status.idle": "2021-10-12T18:14:13.877125Z",
     "shell.execute_reply": "2021-10-12T18:14:13.875294Z"
    },
    "papermill": {
     "duration": 3.433478,
     "end_time": "2021-10-12T18:14:13.877341",
     "exception": false,
     "start_time": "2021-10-12T18:14:10.443863",
     "status": "completed"
    },
    "tags": []
   },
   "outputs": [],
   "source": [
    "#Adding day_of_week column\n",
    "all_trips_v2 <- all_trips_v2 %>%\n",
    "mutate(day_of_week = weekdays(started_at))\n",
    "\n",
    "\n",
    "#column for month when the trip started\n",
    "all_trips_v2$month <- format(as.Date(all_trips_v2$started_at),'%b_%y')\n",
    "\n",
    "#column for trip duration in min\n",
    "all_trips_v2$trip_duration <- (difftime(all_trips_v2$ended_at,all_trips_v2$started_at,units= c('mins')))"
   ]
  },
  {
   "cell_type": "code",
   "execution_count": 13,
   "id": "e75408f4",
   "metadata": {
    "execution": {
     "iopub.execute_input": "2021-10-12T18:14:14.001629Z",
     "iopub.status.busy": "2021-10-12T18:14:14.000278Z",
     "iopub.status.idle": "2021-10-12T18:14:14.051286Z",
     "shell.execute_reply": "2021-10-12T18:14:14.049906Z"
    },
    "papermill": {
     "duration": 0.114687,
     "end_time": "2021-10-12T18:14:14.051491",
     "exception": false,
     "start_time": "2021-10-12T18:14:13.936804",
     "status": "completed"
    },
    "tags": []
   },
   "outputs": [
    {
     "name": "stdout",
     "output_type": "stream",
     "text": [
      "Rows: 3,489,748\n",
      "Columns: 12\n",
      "$ ride_id            \u001b[3m\u001b[90m<chr>\u001b[39m\u001b[23m \"A847FADBBC638E45\", \"5405B80E996FF60D\", \"5DD24A79A4…\n",
      "$ rideable_type      \u001b[3m\u001b[90m<chr>\u001b[39m\u001b[23m \"docked_bike\", \"docked_bike\", \"docked_bike\", \"docke…\n",
      "$ started_at         \u001b[3m\u001b[90m<dttm>\u001b[39m\u001b[23m 2020-04-26 17:45:14, 2020-04-17 17:08:54, 2020-04-…\n",
      "$ ended_at           \u001b[3m\u001b[90m<dttm>\u001b[39m\u001b[23m 2020-04-26 18:12:03, 2020-04-17 17:17:03, 2020-04-…\n",
      "$ start_station_name \u001b[3m\u001b[90m<chr>\u001b[39m\u001b[23m \"Eckhart Park\", \"Drake Ave & Fullerton Ave\", \"McClu…\n",
      "$ start_station_id   \u001b[3m\u001b[90m<int>\u001b[39m\u001b[23m 86, 503, 142, 216, 125, 173, 35, 434, 627, 377, 508…\n",
      "$ end_station_name   \u001b[3m\u001b[90m<chr>\u001b[39m\u001b[23m \"Lincoln Ave & Diversey Pkwy\", \"Kosciuszko Park\", \"…\n",
      "$ end_station_id     \u001b[3m\u001b[90m<int>\u001b[39m\u001b[23m 152, 499, 255, 657, 323, 35, 635, 382, 359, 508, 37…\n",
      "$ member_casual      \u001b[3m\u001b[90m<chr>\u001b[39m\u001b[23m \"member\", \"member\", \"member\", \"member\", \"casual\", \"…\n",
      "$ day_of_week        \u001b[3m\u001b[90m<chr>\u001b[39m\u001b[23m \"Sunday\", \"Friday\", \"Wednesday\", \"Tuesday\", \"Saturd…\n",
      "$ month              \u001b[3m\u001b[90m<chr>\u001b[39m\u001b[23m \"Apr_20\", \"Apr_20\", \"Apr_20\", \"Apr_20\", \"Apr_20\", \"…\n",
      "$ trip_duration      \u001b[3m\u001b[90m<drtn>\u001b[39m\u001b[23m 26.816667 mins, 8.150000 mins, 14.383333 mins, 12.…\n",
      "'data.frame':\t3489748 obs. of  12 variables:\n",
      " $ ride_id           : chr  \"A847FADBBC638E45\" \"5405B80E996FF60D\" \"5DD24A79A4E006F4\" \"2A59BBDF5CDBA725\" ...\n",
      " $ rideable_type     : chr  \"docked_bike\" \"docked_bike\" \"docked_bike\" \"docked_bike\" ...\n",
      " $ started_at        : POSIXct, format: \"2020-04-26 17:45:14\" \"2020-04-17 17:08:54\" ...\n",
      " $ ended_at          : POSIXct, format: \"2020-04-26 18:12:03\" \"2020-04-17 17:17:03\" ...\n",
      " $ start_station_name: chr  \"Eckhart Park\" \"Drake Ave & Fullerton Ave\" \"McClurg Ct & Erie St\" \"California Ave & Division St\" ...\n",
      " $ start_station_id  : int  86 503 142 216 125 173 35 434 627 377 ...\n",
      " $ end_station_name  : chr  \"Lincoln Ave & Diversey Pkwy\" \"Kosciuszko Park\" \"Indiana Ave & Roosevelt Rd\" \"Wood St & Augusta Blvd\" ...\n",
      " $ end_station_id    : int  152 499 255 657 323 35 635 382 359 508 ...\n",
      " $ member_casual     : chr  \"member\" \"member\" \"member\" \"member\" ...\n",
      " $ day_of_week       : chr  \"Sunday\" \"Friday\" \"Wednesday\" \"Tuesday\" ...\n",
      " $ month             : chr  \"Apr_20\" \"Apr_20\" \"Apr_20\" \"Apr_20\" ...\n",
      " $ trip_duration     : 'difftime' num  26.8166666666667 8.15 14.3833333333333 12.2 ...\n",
      "  ..- attr(*, \"units\")= chr \"mins\"\n"
     ]
    }
   ],
   "source": [
    "glimpse(all_trips_v2)\n",
    "\n",
    "str(all_trips_v2)"
   ]
  },
  {
   "cell_type": "code",
   "execution_count": 14,
   "id": "cf646f59",
   "metadata": {
    "execution": {
     "iopub.execute_input": "2021-10-12T18:14:14.176022Z",
     "iopub.status.busy": "2021-10-12T18:14:14.174684Z",
     "iopub.status.idle": "2021-10-12T18:14:16.800495Z",
     "shell.execute_reply": "2021-10-12T18:14:16.798870Z"
    },
    "papermill": {
     "duration": 2.689351,
     "end_time": "2021-10-12T18:14:16.800647",
     "exception": false,
     "start_time": "2021-10-12T18:14:14.111296",
     "status": "completed"
    },
    "tags": []
   },
   "outputs": [
    {
     "data": {
      "text/html": [
       "'hubbard_test_lws'"
      ],
      "text/latex": [
       "'hubbard\\_test\\_lws'"
      ],
      "text/markdown": [
       "'hubbard_test_lws'"
      ],
      "text/plain": [
       "[1] \"hubbard_test_lws\""
      ]
     },
     "metadata": {},
     "output_type": "display_data"
    },
    {
     "data": {
      "text/html": [
       "<style>\n",
       ".list-inline {list-style: none; margin:0; padding: 0}\n",
       ".list-inline>li {display: inline-block}\n",
       ".list-inline>li:not(:last-child)::after {content: \"\\00b7\"; padding: 0 .5ex}\n",
       "</style>\n",
       "<ol class=list-inline><li>'HUBBARD ST BIKE CHECKING (LBS-WH-TEST)'</li><li>'WATSON TESTING - DIVVY'</li></ol>\n"
      ],
      "text/latex": [
       "\\begin{enumerate*}\n",
       "\\item 'HUBBARD ST BIKE CHECKING (LBS-WH-TEST)'\n",
       "\\item 'WATSON TESTING - DIVVY'\n",
       "\\end{enumerate*}\n"
      ],
      "text/markdown": [
       "1. 'HUBBARD ST BIKE CHECKING (LBS-WH-TEST)'\n",
       "2. 'WATSON TESTING - DIVVY'\n",
       "\n",
       "\n"
      ],
      "text/plain": [
       "[1] \"HUBBARD ST BIKE CHECKING (LBS-WH-TEST)\"\n",
       "[2] \"WATSON TESTING - DIVVY\"                "
      ]
     },
     "metadata": {},
     "output_type": "display_data"
    }
   ],
   "source": [
    "#checking for testrides that were made by company for quality checks\n",
    "unique(all_trips_v2$start_station_name[grep(\"test\",all_trips_v2$start_station_name) ])\n",
    "unique(all_trips_v2$start_station_name[grep(\"TEST\", all_trips_v2$start_station_name)])"
   ]
  },
  {
   "cell_type": "code",
   "execution_count": 15,
   "id": "e65ec815",
   "metadata": {
    "execution": {
     "iopub.execute_input": "2021-10-12T18:14:16.927333Z",
     "iopub.status.busy": "2021-10-12T18:14:16.925553Z",
     "iopub.status.idle": "2021-10-12T18:14:18.064617Z",
     "shell.execute_reply": "2021-10-12T18:14:18.061840Z"
    },
    "papermill": {
     "duration": 1.203715,
     "end_time": "2021-10-12T18:14:18.064805",
     "exception": false,
     "start_time": "2021-10-12T18:14:16.861090",
     "status": "completed"
    },
    "tags": []
   },
   "outputs": [],
   "source": [
    "all_trips_v2 <- (filter(all_trips_v2, !(start_station_name == \"WATSON TESTING - DIVVY\" | start_station_name == \"HUBBARD ST BIKE CHECKING (LBS-WH-TEST)\" | start_station_name ==\"hubbard_test_lws\" | start_station_name ==\"\")))"
   ]
  },
  {
   "cell_type": "code",
   "execution_count": 16,
   "id": "d15061f3",
   "metadata": {
    "execution": {
     "iopub.execute_input": "2021-10-12T18:14:18.200847Z",
     "iopub.status.busy": "2021-10-12T18:14:18.199321Z",
     "iopub.status.idle": "2021-10-12T18:14:20.788443Z",
     "shell.execute_reply": "2021-10-12T18:14:20.787037Z"
    },
    "papermill": {
     "duration": 2.653958,
     "end_time": "2021-10-12T18:14:20.788601",
     "exception": false,
     "start_time": "2021-10-12T18:14:18.134643",
     "status": "completed"
    },
    "tags": []
   },
   "outputs": [
    {
     "data": {
      "text/html": [],
      "text/latex": [],
      "text/markdown": [],
      "text/plain": [
       "character(0)"
      ]
     },
     "metadata": {},
     "output_type": "display_data"
    },
    {
     "data": {
      "text/html": [],
      "text/latex": [],
      "text/markdown": [],
      "text/plain": [
       "character(0)"
      ]
     },
     "metadata": {},
     "output_type": "display_data"
    }
   ],
   "source": [
    "#verifying\n",
    "unique(all_trips_v2$start_station_name[grep(\"test\",all_trips_v2$start_station_name) ])\n",
    "unique(all_trips_v2$start_station_name[grep(\"TEST\", all_trips_v2$start_station_name)])"
   ]
  },
  {
   "cell_type": "code",
   "execution_count": 17,
   "id": "820c3bca",
   "metadata": {
    "execution": {
     "iopub.execute_input": "2021-10-12T18:14:20.918730Z",
     "iopub.status.busy": "2021-10-12T18:14:20.917513Z",
     "iopub.status.idle": "2021-10-12T18:14:21.816691Z",
     "shell.execute_reply": "2021-10-12T18:14:21.815403Z"
    },
    "papermill": {
     "duration": 0.9663,
     "end_time": "2021-10-12T18:14:21.816850",
     "exception": false,
     "start_time": "2021-10-12T18:14:20.850550",
     "status": "completed"
    },
    "tags": []
   },
   "outputs": [
    {
     "data": {
      "text/plain": [
       "Time difference of -29049.97 mins"
      ]
     },
     "metadata": {},
     "output_type": "display_data"
    },
    {
     "data": {
      "text/plain": [
       "Time difference of 58720.03 mins"
      ]
     },
     "metadata": {},
     "output_type": "display_data"
    }
   ],
   "source": [
    "# View the minimum and Maximum trip duration\n",
    "\n",
    "min(all_trips_v2$trip_duration)\n",
    "max(all_trips_v2$trip_duration)"
   ]
  },
  {
   "cell_type": "code",
   "execution_count": 18,
   "id": "09776e05",
   "metadata": {
    "execution": {
     "iopub.execute_input": "2021-10-12T18:14:21.952244Z",
     "iopub.status.busy": "2021-10-12T18:14:21.950980Z",
     "iopub.status.idle": "2021-10-12T18:14:21.981005Z",
     "shell.execute_reply": "2021-10-12T18:14:21.979393Z"
    },
    "papermill": {
     "duration": 0.099823,
     "end_time": "2021-10-12T18:14:21.981205",
     "exception": false,
     "start_time": "2021-10-12T18:14:21.881382",
     "status": "completed"
    },
    "tags": []
   },
   "outputs": [
    {
     "data": {
      "text/html": [
       "<table class=\"dataframe\">\n",
       "<caption>A data.frame: 6 × 12</caption>\n",
       "<thead>\n",
       "\t<tr><th></th><th scope=col>ride_id</th><th scope=col>rideable_type</th><th scope=col>started_at</th><th scope=col>ended_at</th><th scope=col>start_station_name</th><th scope=col>start_station_id</th><th scope=col>end_station_name</th><th scope=col>end_station_id</th><th scope=col>member_casual</th><th scope=col>day_of_week</th><th scope=col>month</th><th scope=col>trip_duration</th></tr>\n",
       "\t<tr><th></th><th scope=col>&lt;chr&gt;</th><th scope=col>&lt;chr&gt;</th><th scope=col>&lt;dttm&gt;</th><th scope=col>&lt;dttm&gt;</th><th scope=col>&lt;chr&gt;</th><th scope=col>&lt;int&gt;</th><th scope=col>&lt;chr&gt;</th><th scope=col>&lt;int&gt;</th><th scope=col>&lt;chr&gt;</th><th scope=col>&lt;chr&gt;</th><th scope=col>&lt;chr&gt;</th><th scope=col>&lt;drtn&gt;</th></tr>\n",
       "</thead>\n",
       "<tbody>\n",
       "\t<tr><th scope=row>1</th><td>A847FADBBC638E45</td><td>docked_bike</td><td>2020-04-26 17:45:14</td><td>2020-04-26 18:12:03</td><td><span style=white-space:pre-wrap>Eckhart Park                       </span></td><td> 86</td><td>Lincoln Ave &amp; Diversey Pkwy</td><td>152</td><td>member</td><td><span style=white-space:pre-wrap>Sunday   </span></td><td>Apr_20</td><td>26.81667 mins</td></tr>\n",
       "\t<tr><th scope=row>2</th><td>5405B80E996FF60D</td><td>docked_bike</td><td>2020-04-17 17:08:54</td><td>2020-04-17 17:17:03</td><td><span style=white-space:pre-wrap>Drake Ave &amp; Fullerton Ave          </span></td><td>503</td><td><span style=white-space:pre-wrap>Kosciuszko Park            </span></td><td>499</td><td>member</td><td><span style=white-space:pre-wrap>Friday   </span></td><td>Apr_20</td><td> 8.15000 mins</td></tr>\n",
       "\t<tr><th scope=row>3</th><td>5DD24A79A4E006F4</td><td>docked_bike</td><td>2020-04-01 17:54:13</td><td>2020-04-01 18:08:36</td><td><span style=white-space:pre-wrap>McClurg Ct &amp; Erie St               </span></td><td>142</td><td>Indiana Ave &amp; Roosevelt Rd </td><td>255</td><td>member</td><td>Wednesday</td><td>Apr_20</td><td>14.38333 mins</td></tr>\n",
       "\t<tr><th scope=row>4</th><td>2A59BBDF5CDBA725</td><td>docked_bike</td><td>2020-04-07 12:50:19</td><td>2020-04-07 13:02:31</td><td><span style=white-space:pre-wrap>California Ave &amp; Division St       </span></td><td>216</td><td><span style=white-space:pre-wrap>Wood St &amp; Augusta Blvd     </span></td><td>657</td><td>member</td><td><span style=white-space:pre-wrap>Tuesday  </span></td><td>Apr_20</td><td>12.20000 mins</td></tr>\n",
       "\t<tr><th scope=row>5</th><td>27AD306C119C6158</td><td>docked_bike</td><td>2020-04-18 10:22:59</td><td>2020-04-18 11:15:54</td><td><span style=white-space:pre-wrap>Rush St &amp; Hubbard St               </span></td><td>125</td><td>Sheridan Rd &amp; Lawrence Ave </td><td>323</td><td>casual</td><td>Saturday </td><td>Apr_20</td><td>52.91667 mins</td></tr>\n",
       "\t<tr><th scope=row>6</th><td>356216E875132F61</td><td>docked_bike</td><td>2020-04-30 17:55:47</td><td>2020-04-30 18:01:11</td><td>Mies van der Rohe Way &amp; Chicago Ave</td><td>173</td><td><span style=white-space:pre-wrap>Streeter Dr &amp; Grand Ave    </span></td><td> 35</td><td>member</td><td>Thursday </td><td>Apr_20</td><td> 5.40000 mins</td></tr>\n",
       "</tbody>\n",
       "</table>\n"
      ],
      "text/latex": [
       "A data.frame: 6 × 12\n",
       "\\begin{tabular}{r|llllllllllll}\n",
       "  & ride\\_id & rideable\\_type & started\\_at & ended\\_at & start\\_station\\_name & start\\_station\\_id & end\\_station\\_name & end\\_station\\_id & member\\_casual & day\\_of\\_week & month & trip\\_duration\\\\\n",
       "  & <chr> & <chr> & <dttm> & <dttm> & <chr> & <int> & <chr> & <int> & <chr> & <chr> & <chr> & <drtn>\\\\\n",
       "\\hline\n",
       "\t1 & A847FADBBC638E45 & docked\\_bike & 2020-04-26 17:45:14 & 2020-04-26 18:12:03 & Eckhart Park                        &  86 & Lincoln Ave \\& Diversey Pkwy & 152 & member & Sunday    & Apr\\_20 & 26.81667 mins\\\\\n",
       "\t2 & 5405B80E996FF60D & docked\\_bike & 2020-04-17 17:08:54 & 2020-04-17 17:17:03 & Drake Ave \\& Fullerton Ave           & 503 & Kosciuszko Park             & 499 & member & Friday    & Apr\\_20 &  8.15000 mins\\\\\n",
       "\t3 & 5DD24A79A4E006F4 & docked\\_bike & 2020-04-01 17:54:13 & 2020-04-01 18:08:36 & McClurg Ct \\& Erie St                & 142 & Indiana Ave \\& Roosevelt Rd  & 255 & member & Wednesday & Apr\\_20 & 14.38333 mins\\\\\n",
       "\t4 & 2A59BBDF5CDBA725 & docked\\_bike & 2020-04-07 12:50:19 & 2020-04-07 13:02:31 & California Ave \\& Division St        & 216 & Wood St \\& Augusta Blvd      & 657 & member & Tuesday   & Apr\\_20 & 12.20000 mins\\\\\n",
       "\t5 & 27AD306C119C6158 & docked\\_bike & 2020-04-18 10:22:59 & 2020-04-18 11:15:54 & Rush St \\& Hubbard St                & 125 & Sheridan Rd \\& Lawrence Ave  & 323 & casual & Saturday  & Apr\\_20 & 52.91667 mins\\\\\n",
       "\t6 & 356216E875132F61 & docked\\_bike & 2020-04-30 17:55:47 & 2020-04-30 18:01:11 & Mies van der Rohe Way \\& Chicago Ave & 173 & Streeter Dr \\& Grand Ave     &  35 & member & Thursday  & Apr\\_20 &  5.40000 mins\\\\\n",
       "\\end{tabular}\n"
      ],
      "text/markdown": [
       "\n",
       "A data.frame: 6 × 12\n",
       "\n",
       "| <!--/--> | ride_id &lt;chr&gt; | rideable_type &lt;chr&gt; | started_at &lt;dttm&gt; | ended_at &lt;dttm&gt; | start_station_name &lt;chr&gt; | start_station_id &lt;int&gt; | end_station_name &lt;chr&gt; | end_station_id &lt;int&gt; | member_casual &lt;chr&gt; | day_of_week &lt;chr&gt; | month &lt;chr&gt; | trip_duration &lt;drtn&gt; |\n",
       "|---|---|---|---|---|---|---|---|---|---|---|---|---|\n",
       "| 1 | A847FADBBC638E45 | docked_bike | 2020-04-26 17:45:14 | 2020-04-26 18:12:03 | Eckhart Park                        |  86 | Lincoln Ave &amp; Diversey Pkwy | 152 | member | Sunday    | Apr_20 | 26.81667 mins |\n",
       "| 2 | 5405B80E996FF60D | docked_bike | 2020-04-17 17:08:54 | 2020-04-17 17:17:03 | Drake Ave &amp; Fullerton Ave           | 503 | Kosciuszko Park             | 499 | member | Friday    | Apr_20 |  8.15000 mins |\n",
       "| 3 | 5DD24A79A4E006F4 | docked_bike | 2020-04-01 17:54:13 | 2020-04-01 18:08:36 | McClurg Ct &amp; Erie St                | 142 | Indiana Ave &amp; Roosevelt Rd  | 255 | member | Wednesday | Apr_20 | 14.38333 mins |\n",
       "| 4 | 2A59BBDF5CDBA725 | docked_bike | 2020-04-07 12:50:19 | 2020-04-07 13:02:31 | California Ave &amp; Division St        | 216 | Wood St &amp; Augusta Blvd      | 657 | member | Tuesday   | Apr_20 | 12.20000 mins |\n",
       "| 5 | 27AD306C119C6158 | docked_bike | 2020-04-18 10:22:59 | 2020-04-18 11:15:54 | Rush St &amp; Hubbard St                | 125 | Sheridan Rd &amp; Lawrence Ave  | 323 | casual | Saturday  | Apr_20 | 52.91667 mins |\n",
       "| 6 | 356216E875132F61 | docked_bike | 2020-04-30 17:55:47 | 2020-04-30 18:01:11 | Mies van der Rohe Way &amp; Chicago Ave | 173 | Streeter Dr &amp; Grand Ave     |  35 | member | Thursday  | Apr_20 |  5.40000 mins |\n",
       "\n"
      ],
      "text/plain": [
       "  ride_id          rideable_type started_at          ended_at           \n",
       "1 A847FADBBC638E45 docked_bike   2020-04-26 17:45:14 2020-04-26 18:12:03\n",
       "2 5405B80E996FF60D docked_bike   2020-04-17 17:08:54 2020-04-17 17:17:03\n",
       "3 5DD24A79A4E006F4 docked_bike   2020-04-01 17:54:13 2020-04-01 18:08:36\n",
       "4 2A59BBDF5CDBA725 docked_bike   2020-04-07 12:50:19 2020-04-07 13:02:31\n",
       "5 27AD306C119C6158 docked_bike   2020-04-18 10:22:59 2020-04-18 11:15:54\n",
       "6 356216E875132F61 docked_bike   2020-04-30 17:55:47 2020-04-30 18:01:11\n",
       "  start_station_name                  start_station_id\n",
       "1 Eckhart Park                         86             \n",
       "2 Drake Ave & Fullerton Ave           503             \n",
       "3 McClurg Ct & Erie St                142             \n",
       "4 California Ave & Division St        216             \n",
       "5 Rush St & Hubbard St                125             \n",
       "6 Mies van der Rohe Way & Chicago Ave 173             \n",
       "  end_station_name            end_station_id member_casual day_of_week month \n",
       "1 Lincoln Ave & Diversey Pkwy 152            member        Sunday      Apr_20\n",
       "2 Kosciuszko Park             499            member        Friday      Apr_20\n",
       "3 Indiana Ave & Roosevelt Rd  255            member        Wednesday   Apr_20\n",
       "4 Wood St & Augusta Blvd      657            member        Tuesday     Apr_20\n",
       "5 Sheridan Rd & Lawrence Ave  323            casual        Saturday    Apr_20\n",
       "6 Streeter Dr & Grand Ave      35            member        Thursday    Apr_20\n",
       "  trip_duration\n",
       "1 26.81667 mins\n",
       "2  8.15000 mins\n",
       "3 14.38333 mins\n",
       "4 12.20000 mins\n",
       "5 52.91667 mins\n",
       "6  5.40000 mins"
      ]
     },
     "metadata": {},
     "output_type": "display_data"
    }
   ],
   "source": [
    "head(all_trips_v2)"
   ]
  },
  {
   "cell_type": "code",
   "execution_count": 19,
   "id": "1e589944",
   "metadata": {
    "execution": {
     "iopub.execute_input": "2021-10-12T18:14:22.115122Z",
     "iopub.status.busy": "2021-10-12T18:14:22.113292Z",
     "iopub.status.idle": "2021-10-12T18:14:22.200981Z",
     "shell.execute_reply": "2021-10-12T18:14:22.199742Z"
    },
    "papermill": {
     "duration": 0.156677,
     "end_time": "2021-10-12T18:14:22.201160",
     "exception": false,
     "start_time": "2021-10-12T18:14:22.044483",
     "status": "completed"
    },
    "tags": []
   },
   "outputs": [
    {
     "data": {
      "text/html": [
       "10490"
      ],
      "text/latex": [
       "10490"
      ],
      "text/markdown": [
       "10490"
      ],
      "text/plain": [
       "[1] 10490"
      ]
     },
     "metadata": {},
     "output_type": "display_data"
    }
   ],
   "source": [
    "# check the number of rows with negative trip duration\n",
    "nrow(subset(all_trips_v2,trip_duration<0))"
   ]
  },
  {
   "cell_type": "code",
   "execution_count": 20,
   "id": "d6dc06d4",
   "metadata": {
    "execution": {
     "iopub.execute_input": "2021-10-12T18:14:22.336515Z",
     "iopub.status.busy": "2021-10-12T18:14:22.335299Z",
     "iopub.status.idle": "2021-10-12T18:14:24.446962Z",
     "shell.execute_reply": "2021-10-12T18:14:24.445638Z"
    },
    "papermill": {
     "duration": 2.181149,
     "end_time": "2021-10-12T18:14:24.447130",
     "exception": false,
     "start_time": "2021-10-12T18:14:22.265981",
     "status": "completed"
    },
    "tags": []
   },
   "outputs": [],
   "source": [
    "#Create a new data frame without records that have ride length <= zero \n",
    "\n",
    "all_trips_v3 <- all_trips_v2[!(all_trips_v2$trip_duration < 0),]"
   ]
  },
  {
   "cell_type": "code",
   "execution_count": 21,
   "id": "90aca2eb",
   "metadata": {
    "execution": {
     "iopub.execute_input": "2021-10-12T18:14:24.580993Z",
     "iopub.status.busy": "2021-10-12T18:14:24.579428Z",
     "iopub.status.idle": "2021-10-12T18:14:25.463536Z",
     "shell.execute_reply": "2021-10-12T18:14:25.462111Z"
    },
    "papermill": {
     "duration": 0.952593,
     "end_time": "2021-10-12T18:14:25.463694",
     "exception": false,
     "start_time": "2021-10-12T18:14:24.511101",
     "status": "completed"
    },
    "tags": []
   },
   "outputs": [
    {
     "data": {
      "text/html": [
       "0"
      ],
      "text/latex": [
       "0"
      ],
      "text/markdown": [
       "0"
      ],
      "text/plain": [
       "[1] 0"
      ]
     },
     "metadata": {},
     "output_type": "display_data"
    }
   ],
   "source": [
    "#verification\n",
    "nrow(subset(all_trips_v3,trip_duration<0))"
   ]
  },
  {
   "cell_type": "markdown",
   "id": "bdfedfdf",
   "metadata": {
    "papermill": {
     "duration": 0.065571,
     "end_time": "2021-10-12T18:14:25.594686",
     "exception": false,
     "start_time": "2021-10-12T18:14:25.529115",
     "status": "completed"
    },
    "tags": []
   },
   "source": [
    "<h3> Analyse </h3> \n",
    "\n",
    "The dataframe is now ready for descriptive analysis that will help us uncover some insights on how the casual riders and members use Cyclistic rideshare differently.\n",
    "\n",
    "First, let's try to get some simple statistics on trip_duration for all customers, and do the same by customer_type."
   ]
  },
  {
   "cell_type": "code",
   "execution_count": 22,
   "id": "b66a7b8c",
   "metadata": {
    "execution": {
     "iopub.execute_input": "2021-10-12T18:14:25.730551Z",
     "iopub.status.busy": "2021-10-12T18:14:25.729301Z",
     "iopub.status.idle": "2021-10-12T18:14:25.746546Z",
     "shell.execute_reply": "2021-10-12T18:14:25.744927Z"
    },
    "papermill": {
     "duration": 0.086988,
     "end_time": "2021-10-12T18:14:25.746724",
     "exception": false,
     "start_time": "2021-10-12T18:14:25.659736",
     "status": "completed"
    },
    "tags": []
   },
   "outputs": [
    {
     "data": {
      "text/plain": [
       "  Length    Class     Mode \n",
       " 3353716 difftime  numeric "
      ]
     },
     "metadata": {},
     "output_type": "display_data"
    }
   ],
   "source": [
    "# statictical summary of trip_duration for all trips\n",
    "summary(all_trips_v3$trip_duration)"
   ]
  },
  {
   "cell_type": "code",
   "execution_count": 23,
   "id": "4e0812eb",
   "metadata": {
    "execution": {
     "iopub.execute_input": "2021-10-12T18:14:25.883313Z",
     "iopub.status.busy": "2021-10-12T18:14:25.881319Z",
     "iopub.status.idle": "2021-10-12T18:14:30.532027Z",
     "shell.execute_reply": "2021-10-12T18:14:30.530458Z"
    },
    "papermill": {
     "duration": 4.719708,
     "end_time": "2021-10-12T18:14:30.532212",
     "exception": false,
     "start_time": "2021-10-12T18:14:25.812504",
     "status": "completed"
    },
    "tags": []
   },
   "outputs": [
    {
     "data": {
      "text/html": [
       "<table class=\"dataframe\">\n",
       "<caption>A tibble: 2 × 5</caption>\n",
       "<thead>\n",
       "\t<tr><th scope=col>member_casual</th><th scope=col>min_trip_duration</th><th scope=col>max_trip_duration</th><th scope=col>median_trip_duration</th><th scope=col>mean_trip_duration</th></tr>\n",
       "\t<tr><th scope=col>&lt;chr&gt;</th><th scope=col>&lt;drtn&gt;</th><th scope=col>&lt;drtn&gt;</th><th scope=col>&lt;drtn&gt;</th><th scope=col>&lt;drtn&gt;</th></tr>\n",
       "</thead>\n",
       "<tbody>\n",
       "\t<tr><td>casual</td><td>0 mins</td><td>55683.88 mins</td><td>21.61667 mins</td><td>45.93061 mins</td></tr>\n",
       "\t<tr><td>member</td><td>0 mins</td><td>58720.03 mins</td><td>11.58333 mins</td><td>16.23343 mins</td></tr>\n",
       "</tbody>\n",
       "</table>\n"
      ],
      "text/latex": [
       "A tibble: 2 × 5\n",
       "\\begin{tabular}{lllll}\n",
       " member\\_casual & min\\_trip\\_duration & max\\_trip\\_duration & median\\_trip\\_duration & mean\\_trip\\_duration\\\\\n",
       " <chr> & <drtn> & <drtn> & <drtn> & <drtn>\\\\\n",
       "\\hline\n",
       "\t casual & 0 mins & 55683.88 mins & 21.61667 mins & 45.93061 mins\\\\\n",
       "\t member & 0 mins & 58720.03 mins & 11.58333 mins & 16.23343 mins\\\\\n",
       "\\end{tabular}\n"
      ],
      "text/markdown": [
       "\n",
       "A tibble: 2 × 5\n",
       "\n",
       "| member_casual &lt;chr&gt; | min_trip_duration &lt;drtn&gt; | max_trip_duration &lt;drtn&gt; | median_trip_duration &lt;drtn&gt; | mean_trip_duration &lt;drtn&gt; |\n",
       "|---|---|---|---|---|\n",
       "| casual | 0 mins | 55683.88 mins | 21.61667 mins | 45.93061 mins |\n",
       "| member | 0 mins | 58720.03 mins | 11.58333 mins | 16.23343 mins |\n",
       "\n"
      ],
      "text/plain": [
       "  member_casual min_trip_duration max_trip_duration median_trip_duration\n",
       "1 casual        0 mins            55683.88 mins     21.61667 mins       \n",
       "2 member        0 mins            58720.03 mins     11.58333 mins       \n",
       "  mean_trip_duration\n",
       "1 45.93061 mins     \n",
       "2 16.23343 mins     "
      ]
     },
     "metadata": {},
     "output_type": "display_data"
    }
   ],
   "source": [
    "#Min, Max, Median, Mean values for trip_duration\n",
    "all_trips_v3 %>%\n",
    " group_by(member_casual) %>%\n",
    "    summarise(min_trip_duration = min(trip_duration), max_trip_duration = max(trip_duration), median_trip_duration = median(trip_duration), mean_trip_duration = mean(trip_duration))"
   ]
  },
  {
   "cell_type": "markdown",
   "id": "7657215b",
   "metadata": {
    "papermill": {
     "duration": 0.075995,
     "end_time": "2021-10-12T18:14:30.690662",
     "exception": false,
     "start_time": "2021-10-12T18:14:30.614667",
     "status": "completed"
    },
    "tags": []
   },
   "source": [
    "The mean trip duration of member riders is lower than the mean trip duration of all trips, while it is exactly the opposite for casual riders, whose mean trip duration is higher than the the mean trip duration of all trips. This tells us that casual riders usually take the bikes out for a longer duration compared to members."
   ]
  },
  {
   "cell_type": "markdown",
   "id": "df91b288",
   "metadata": {
    "papermill": {
     "duration": 0.072335,
     "end_time": "2021-10-12T18:14:30.829213",
     "exception": false,
     "start_time": "2021-10-12T18:14:30.756878",
     "status": "completed"
    },
    "tags": []
   },
   "source": [
    "**Total number of trips by customer type and day of the week**"
   ]
  },
  {
   "cell_type": "code",
   "execution_count": 24,
   "id": "3a9f2ac8",
   "metadata": {
    "execution": {
     "iopub.execute_input": "2021-10-12T18:14:30.979050Z",
     "iopub.status.busy": "2021-10-12T18:14:30.976597Z",
     "iopub.status.idle": "2021-10-12T18:14:31.124305Z",
     "shell.execute_reply": "2021-10-12T18:14:31.122579Z"
    },
    "papermill": {
     "duration": 0.222126,
     "end_time": "2021-10-12T18:14:31.124457",
     "exception": false,
     "start_time": "2021-10-12T18:14:30.902331",
     "status": "completed"
    },
    "tags": []
   },
   "outputs": [],
   "source": [
    "# fix the order for the day_of_week and month variable so that they show up \n",
    "# in the same sequence in output tables and visualizations\n",
    "all_trips_v3$day_of_week <- ordered(all_trips_v3$day_of_week, levels=c('Monday', 'Tuesday', 'Wednesday', 'Thursday', 'Friday', 'Saturday', 'Sunday'))\n",
    "\n",
    "\n",
    "all_trips_v3$month <- ordered(all_trips_v3$month, levels=c('Apr_20', \"May_20\", \"Jun_20\", \"Jul_20\", \"Aug_20\", \"Sep_20\", \"Oct_20\",\n",
    "                                                          \"Nov_20\", \"Dec_20\", \"Jan_21\", \"Feb_21\", \"Mar_21\"))"
   ]
  },
  {
   "cell_type": "code",
   "execution_count": 25,
   "id": "33defa23",
   "metadata": {
    "execution": {
     "iopub.execute_input": "2021-10-12T18:14:31.263472Z",
     "iopub.status.busy": "2021-10-12T18:14:31.261354Z",
     "iopub.status.idle": "2021-10-12T18:14:31.530049Z",
     "shell.execute_reply": "2021-10-12T18:14:31.528235Z"
    },
    "papermill": {
     "duration": 0.339012,
     "end_time": "2021-10-12T18:14:31.530229",
     "exception": false,
     "start_time": "2021-10-12T18:14:31.191217",
     "status": "completed"
    },
    "tags": []
   },
   "outputs": [
    {
     "name": "stderr",
     "output_type": "stream",
     "text": [
      "`summarise()` has grouped output by 'member_casual'. You can override using the `.groups` argument.\n",
      "\n"
     ]
    },
    {
     "data": {
      "text/html": [
       "<table class=\"dataframe\">\n",
       "<caption>A grouped_df: 14 × 4</caption>\n",
       "<thead>\n",
       "\t<tr><th scope=col>member_casual</th><th scope=col>day_of_week</th><th scope=col>number_of_rides</th><th scope=col>average_duration_mins</th></tr>\n",
       "\t<tr><th scope=col>&lt;chr&gt;</th><th scope=col>&lt;ord&gt;</th><th scope=col>&lt;int&gt;</th><th scope=col>&lt;drtn&gt;</th></tr>\n",
       "</thead>\n",
       "<tbody>\n",
       "\t<tr><td>casual</td><td>Saturday </td><td>325675</td><td>47.69920 mins</td></tr>\n",
       "\t<tr><td>casual</td><td>Sunday   </td><td>254900</td><td>51.58985 mins</td></tr>\n",
       "\t<tr><td>casual</td><td>Friday   </td><td>200853</td><td>43.76945 mins</td></tr>\n",
       "\t<tr><td>casual</td><td>Thursday </td><td>159789</td><td>44.04476 mins</td></tr>\n",
       "\t<tr><td>casual</td><td>Wednesday</td><td>151817</td><td>41.33808 mins</td></tr>\n",
       "\t<tr><td>casual</td><td>Monday   </td><td>145122</td><td>46.12465 mins</td></tr>\n",
       "\t<tr><td>casual</td><td>Tuesday  </td><td>139222</td><td>41.52004 mins</td></tr>\n",
       "\t<tr><td>member</td><td>Saturday </td><td>311003</td><td>17.93719 mins</td></tr>\n",
       "\t<tr><td>member</td><td>Friday   </td><td>295075</td><td>15.91835 mins</td></tr>\n",
       "\t<tr><td>member</td><td>Wednesday</td><td>294260</td><td>15.40071 mins</td></tr>\n",
       "\t<tr><td>member</td><td>Thursday </td><td>289673</td><td>15.30649 mins</td></tr>\n",
       "\t<tr><td>member</td><td>Tuesday  </td><td>273780</td><td>15.23406 mins</td></tr>\n",
       "\t<tr><td>member</td><td>Monday   </td><td>257171</td><td>15.45303 mins</td></tr>\n",
       "\t<tr><td>member</td><td>Sunday   </td><td>255376</td><td>18.39084 mins</td></tr>\n",
       "</tbody>\n",
       "</table>\n"
      ],
      "text/latex": [
       "A grouped\\_df: 14 × 4\n",
       "\\begin{tabular}{llll}\n",
       " member\\_casual & day\\_of\\_week & number\\_of\\_rides & average\\_duration\\_mins\\\\\n",
       " <chr> & <ord> & <int> & <drtn>\\\\\n",
       "\\hline\n",
       "\t casual & Saturday  & 325675 & 47.69920 mins\\\\\n",
       "\t casual & Sunday    & 254900 & 51.58985 mins\\\\\n",
       "\t casual & Friday    & 200853 & 43.76945 mins\\\\\n",
       "\t casual & Thursday  & 159789 & 44.04476 mins\\\\\n",
       "\t casual & Wednesday & 151817 & 41.33808 mins\\\\\n",
       "\t casual & Monday    & 145122 & 46.12465 mins\\\\\n",
       "\t casual & Tuesday   & 139222 & 41.52004 mins\\\\\n",
       "\t member & Saturday  & 311003 & 17.93719 mins\\\\\n",
       "\t member & Friday    & 295075 & 15.91835 mins\\\\\n",
       "\t member & Wednesday & 294260 & 15.40071 mins\\\\\n",
       "\t member & Thursday  & 289673 & 15.30649 mins\\\\\n",
       "\t member & Tuesday   & 273780 & 15.23406 mins\\\\\n",
       "\t member & Monday    & 257171 & 15.45303 mins\\\\\n",
       "\t member & Sunday    & 255376 & 18.39084 mins\\\\\n",
       "\\end{tabular}\n"
      ],
      "text/markdown": [
       "\n",
       "A grouped_df: 14 × 4\n",
       "\n",
       "| member_casual &lt;chr&gt; | day_of_week &lt;ord&gt; | number_of_rides &lt;int&gt; | average_duration_mins &lt;drtn&gt; |\n",
       "|---|---|---|---|\n",
       "| casual | Saturday  | 325675 | 47.69920 mins |\n",
       "| casual | Sunday    | 254900 | 51.58985 mins |\n",
       "| casual | Friday    | 200853 | 43.76945 mins |\n",
       "| casual | Thursday  | 159789 | 44.04476 mins |\n",
       "| casual | Wednesday | 151817 | 41.33808 mins |\n",
       "| casual | Monday    | 145122 | 46.12465 mins |\n",
       "| casual | Tuesday   | 139222 | 41.52004 mins |\n",
       "| member | Saturday  | 311003 | 17.93719 mins |\n",
       "| member | Friday    | 295075 | 15.91835 mins |\n",
       "| member | Wednesday | 294260 | 15.40071 mins |\n",
       "| member | Thursday  | 289673 | 15.30649 mins |\n",
       "| member | Tuesday   | 273780 | 15.23406 mins |\n",
       "| member | Monday    | 257171 | 15.45303 mins |\n",
       "| member | Sunday    | 255376 | 18.39084 mins |\n",
       "\n"
      ],
      "text/plain": [
       "   member_casual day_of_week number_of_rides average_duration_mins\n",
       "1  casual        Saturday    325675          47.69920 mins        \n",
       "2  casual        Sunday      254900          51.58985 mins        \n",
       "3  casual        Friday      200853          43.76945 mins        \n",
       "4  casual        Thursday    159789          44.04476 mins        \n",
       "5  casual        Wednesday   151817          41.33808 mins        \n",
       "6  casual        Monday      145122          46.12465 mins        \n",
       "7  casual        Tuesday     139222          41.52004 mins        \n",
       "8  member        Saturday    311003          17.93719 mins        \n",
       "9  member        Friday      295075          15.91835 mins        \n",
       "10 member        Wednesday   294260          15.40071 mins        \n",
       "11 member        Thursday    289673          15.30649 mins        \n",
       "12 member        Tuesday     273780          15.23406 mins        \n",
       "13 member        Monday      257171          15.45303 mins        \n",
       "14 member        Sunday      255376          18.39084 mins        "
      ]
     },
     "metadata": {},
     "output_type": "display_data"
    }
   ],
   "source": [
    "all_trips_v3 %>% \n",
    "  group_by(member_casual, day_of_week) %>%  \n",
    "  summarise(number_of_rides = n(),average_duration_mins = mean(trip_duration)) %>% \n",
    "  arrange(member_casual, desc(number_of_rides))"
   ]
  },
  {
   "cell_type": "markdown",
   "id": "def79c87",
   "metadata": {
    "papermill": {
     "duration": 0.070536,
     "end_time": "2021-10-12T18:14:31.667233",
     "exception": false,
     "start_time": "2021-10-12T18:14:31.596697",
     "status": "completed"
    },
    "tags": []
   },
   "source": [
    "<h3>Share </h3>"
   ]
  },
  {
   "cell_type": "markdown",
   "id": "9071f252",
   "metadata": {
    "papermill": {
     "duration": 0.066765,
     "end_time": "2021-10-12T18:14:31.800998",
     "exception": false,
     "start_time": "2021-10-12T18:14:31.734233",
     "status": "completed"
    },
    "tags": []
   },
   "source": [
    "**Visualization**"
   ]
  },
  {
   "cell_type": "code",
   "execution_count": 26,
   "id": "2025ba88",
   "metadata": {
    "execution": {
     "iopub.execute_input": "2021-10-12T18:14:31.944659Z",
     "iopub.status.busy": "2021-10-12T18:14:31.942495Z",
     "iopub.status.idle": "2021-10-12T18:14:32.702925Z",
     "shell.execute_reply": "2021-10-12T18:14:32.702271Z"
    },
    "papermill": {
     "duration": 0.834699,
     "end_time": "2021-10-12T18:14:32.703076",
     "exception": false,
     "start_time": "2021-10-12T18:14:31.868377",
     "status": "completed"
    },
    "tags": []
   },
   "outputs": [
    {
     "name": "stderr",
     "output_type": "stream",
     "text": [
      "`summarise()` has grouped output by 'member_casual'. You can override using the `.groups` argument.\n",
      "\n"
     ]
    },
    {
     "data": {
      "image/png": "[encoded data removed]"
     },
     "metadata": {
      "image/png": {
       "height": 420,
       "width": 420
      }
     },
     "output_type": "display_data"
    }
   ],
   "source": [
    "all_trips_v3 %>%  \n",
    "  group_by(member_casual, day_of_week) %>% \n",
    "  summarise(number_of_rides = n()) %>% \n",
    "  arrange(member_casual, day_of_week)  %>% \n",
    "  ggplot(aes(x = day_of_week, y = number_of_rides, fill = member_casual)) +\n",
    "  labs(title =\"Total trips by customer type Vs. Day of the week\") +\n",
    "  geom_col(width=0.5, position = position_dodge(width=0.5)) +\n",
    "  scale_y_continuous(labels = function(x) format(x, scientific = FALSE))"
   ]
  },
  {
   "cell_type": "markdown",
   "id": "110747e9",
   "metadata": {
    "papermill": {
     "duration": 0.070474,
     "end_time": "2021-10-12T18:14:32.843857",
     "exception": false,
     "start_time": "2021-10-12T18:14:32.773383",
     "status": "completed"
    },
    "tags": []
   },
   "source": [
    "From the above chart, casual customers are most busy on Sundays and Saturdays, where as members are most busy on later half of the week extending into the weekend. Interesting pattern to note though is the consistent trip numbers among members with less spread over entire week as compared to casual riders who don't seem to use the bikeshare services much during weekdays."
   ]
  },
  {
   "cell_type": "markdown",
   "id": "d4af5271",
   "metadata": {
    "papermill": {
     "duration": 0.069211,
     "end_time": "2021-10-12T18:14:32.981581",
     "exception": false,
     "start_time": "2021-10-12T18:14:32.912370",
     "status": "completed"
    },
    "tags": []
   },
   "source": [
    "**Average number of trips by customer type and month**"
   ]
  },
  {
   "cell_type": "code",
   "execution_count": 27,
   "id": "2a637fe2",
   "metadata": {
    "execution": {
     "iopub.execute_input": "2021-10-12T18:14:33.125702Z",
     "iopub.status.busy": "2021-10-12T18:14:33.123764Z",
     "iopub.status.idle": "2021-10-12T18:14:33.438594Z",
     "shell.execute_reply": "2021-10-12T18:14:33.436964Z"
    },
    "papermill": {
     "duration": 0.388685,
     "end_time": "2021-10-12T18:14:33.438739",
     "exception": false,
     "start_time": "2021-10-12T18:14:33.050054",
     "status": "completed"
    },
    "tags": []
   },
   "outputs": [
    {
     "name": "stderr",
     "output_type": "stream",
     "text": [
      "`summarise()` has grouped output by 'member_casual'. You can override using the `.groups` argument.\n",
      "\n"
     ]
    },
    {
     "data": {
      "text/html": [
       "<table class=\"dataframe\">\n",
       "<caption>A grouped_df: 24 × 4</caption>\n",
       "<thead>\n",
       "\t<tr><th scope=col>member_casual</th><th scope=col>month</th><th scope=col>number_of_rides</th><th scope=col>average_duration_(mins)</th></tr>\n",
       "\t<tr><th scope=col>&lt;chr&gt;</th><th scope=col>&lt;ord&gt;</th><th scope=col>&lt;int&gt;</th><th scope=col>&lt;drtn&gt;</th></tr>\n",
       "</thead>\n",
       "<tbody>\n",
       "\t<tr><td>casual</td><td>Aug_20</td><td>283911</td><td>45.37210 mins</td></tr>\n",
       "\t<tr><td>casual</td><td>Jul_20</td><td>268467</td><td>59.99361 mins</td></tr>\n",
       "\t<tr><td>casual</td><td>Sep_20</td><td>220730</td><td>38.93764 mins</td></tr>\n",
       "\t<tr><td>casual</td><td>Jun_20</td><td>154401</td><td>51.71658 mins</td></tr>\n",
       "\t<tr><td>casual</td><td>Oct_20</td><td>130580</td><td>31.59943 mins</td></tr>\n",
       "\t<tr><td>casual</td><td>May_20</td><td> 86786</td><td>51.25173 mins</td></tr>\n",
       "\t<tr><td>casual</td><td>Mar_21</td><td> 78867</td><td>39.36657 mins</td></tr>\n",
       "\t<tr><td>casual</td><td>Nov_20</td><td> 78455</td><td>33.44921 mins</td></tr>\n",
       "\t<tr><td>casual</td><td>Dec_20</td><td> 26449</td><td>28.32454 mins</td></tr>\n",
       "\t<tr><td>casual</td><td>Apr_20</td><td> 23597</td><td>73.16731 mins</td></tr>\n",
       "\t<tr><td>casual</td><td>Jan_21</td><td> 15916</td><td>27.12733 mins</td></tr>\n",
       "\t<tr><td>casual</td><td>Feb_21</td><td>  9219</td><td>52.65843 mins</td></tr>\n",
       "\t<tr><td>member</td><td>Aug_20</td><td>326603</td><td>16.83551 mins</td></tr>\n",
       "\t<tr><td>member</td><td>Sep_20</td><td>289741</td><td>15.55818 mins</td></tr>\n",
       "\t<tr><td>member</td><td>Jul_20</td><td>280974</td><td>17.76659 mins</td></tr>\n",
       "\t<tr><td>member</td><td>Oct_20</td><td>224270</td><td>14.18857 mins</td></tr>\n",
       "\t<tr><td>member</td><td>Jun_20</td><td>187985</td><td>18.73151 mins</td></tr>\n",
       "\t<tr><td>member</td><td>Nov_20</td><td>155973</td><td>13.73768 mins</td></tr>\n",
       "\t<tr><td>member</td><td>Mar_21</td><td>134779</td><td>13.98897 mins</td></tr>\n",
       "\t<tr><td>member</td><td>May_20</td><td>113218</td><td>19.77930 mins</td></tr>\n",
       "\t<tr><td>member</td><td>Dec_20</td><td> 93032</td><td>12.83025 mins</td></tr>\n",
       "\t<tr><td>member</td><td>Jan_21</td><td> 72291</td><td>12.97440 mins</td></tr>\n",
       "\t<tr><td>member</td><td>Apr_20</td><td> 61115</td><td>21.47929 mins</td></tr>\n",
       "\t<tr><td>member</td><td>Feb_21</td><td> 36357</td><td>18.41053 mins</td></tr>\n",
       "</tbody>\n",
       "</table>\n"
      ],
      "text/latex": [
       "A grouped\\_df: 24 × 4\n",
       "\\begin{tabular}{llll}\n",
       " member\\_casual & month & number\\_of\\_rides & average\\_duration\\_(mins)\\\\\n",
       " <chr> & <ord> & <int> & <drtn>\\\\\n",
       "\\hline\n",
       "\t casual & Aug\\_20 & 283911 & 45.37210 mins\\\\\n",
       "\t casual & Jul\\_20 & 268467 & 59.99361 mins\\\\\n",
       "\t casual & Sep\\_20 & 220730 & 38.93764 mins\\\\\n",
       "\t casual & Jun\\_20 & 154401 & 51.71658 mins\\\\\n",
       "\t casual & Oct\\_20 & 130580 & 31.59943 mins\\\\\n",
       "\t casual & May\\_20 &  86786 & 51.25173 mins\\\\\n",
       "\t casual & Mar\\_21 &  78867 & 39.36657 mins\\\\\n",
       "\t casual & Nov\\_20 &  78455 & 33.44921 mins\\\\\n",
       "\t casual & Dec\\_20 &  26449 & 28.32454 mins\\\\\n",
       "\t casual & Apr\\_20 &  23597 & 73.16731 mins\\\\\n",
       "\t casual & Jan\\_21 &  15916 & 27.12733 mins\\\\\n",
       "\t casual & Feb\\_21 &   9219 & 52.65843 mins\\\\\n",
       "\t member & Aug\\_20 & 326603 & 16.83551 mins\\\\\n",
       "\t member & Sep\\_20 & 289741 & 15.55818 mins\\\\\n",
       "\t member & Jul\\_20 & 280974 & 17.76659 mins\\\\\n",
       "\t member & Oct\\_20 & 224270 & 14.18857 mins\\\\\n",
       "\t member & Jun\\_20 & 187985 & 18.73151 mins\\\\\n",
       "\t member & Nov\\_20 & 155973 & 13.73768 mins\\\\\n",
       "\t member & Mar\\_21 & 134779 & 13.98897 mins\\\\\n",
       "\t member & May\\_20 & 113218 & 19.77930 mins\\\\\n",
       "\t member & Dec\\_20 &  93032 & 12.83025 mins\\\\\n",
       "\t member & Jan\\_21 &  72291 & 12.97440 mins\\\\\n",
       "\t member & Apr\\_20 &  61115 & 21.47929 mins\\\\\n",
       "\t member & Feb\\_21 &  36357 & 18.41053 mins\\\\\n",
       "\\end{tabular}\n"
      ],
      "text/markdown": [
       "\n",
       "A grouped_df: 24 × 4\n",
       "\n",
       "| member_casual &lt;chr&gt; | month &lt;ord&gt; | number_of_rides &lt;int&gt; | average_duration_(mins) &lt;drtn&gt; |\n",
       "|---|---|---|---|\n",
       "| casual | Aug_20 | 283911 | 45.37210 mins |\n",
       "| casual | Jul_20 | 268467 | 59.99361 mins |\n",
       "| casual | Sep_20 | 220730 | 38.93764 mins |\n",
       "| casual | Jun_20 | 154401 | 51.71658 mins |\n",
       "| casual | Oct_20 | 130580 | 31.59943 mins |\n",
       "| casual | May_20 |  86786 | 51.25173 mins |\n",
       "| casual | Mar_21 |  78867 | 39.36657 mins |\n",
       "| casual | Nov_20 |  78455 | 33.44921 mins |\n",
       "| casual | Dec_20 |  26449 | 28.32454 mins |\n",
       "| casual | Apr_20 |  23597 | 73.16731 mins |\n",
       "| casual | Jan_21 |  15916 | 27.12733 mins |\n",
       "| casual | Feb_21 |   9219 | 52.65843 mins |\n",
       "| member | Aug_20 | 326603 | 16.83551 mins |\n",
       "| member | Sep_20 | 289741 | 15.55818 mins |\n",
       "| member | Jul_20 | 280974 | 17.76659 mins |\n",
       "| member | Oct_20 | 224270 | 14.18857 mins |\n",
       "| member | Jun_20 | 187985 | 18.73151 mins |\n",
       "| member | Nov_20 | 155973 | 13.73768 mins |\n",
       "| member | Mar_21 | 134779 | 13.98897 mins |\n",
       "| member | May_20 | 113218 | 19.77930 mins |\n",
       "| member | Dec_20 |  93032 | 12.83025 mins |\n",
       "| member | Jan_21 |  72291 | 12.97440 mins |\n",
       "| member | Apr_20 |  61115 | 21.47929 mins |\n",
       "| member | Feb_21 |  36357 | 18.41053 mins |\n",
       "\n"
      ],
      "text/plain": [
       "   member_casual month  number_of_rides average_duration_(mins)\n",
       "1  casual        Aug_20 283911          45.37210 mins          \n",
       "2  casual        Jul_20 268467          59.99361 mins          \n",
       "3  casual        Sep_20 220730          38.93764 mins          \n",
       "4  casual        Jun_20 154401          51.71658 mins          \n",
       "5  casual        Oct_20 130580          31.59943 mins          \n",
       "6  casual        May_20  86786          51.25173 mins          \n",
       "7  casual        Mar_21  78867          39.36657 mins          \n",
       "8  casual        Nov_20  78455          33.44921 mins          \n",
       "9  casual        Dec_20  26449          28.32454 mins          \n",
       "10 casual        Apr_20  23597          73.16731 mins          \n",
       "11 casual        Jan_21  15916          27.12733 mins          \n",
       "12 casual        Feb_21   9219          52.65843 mins          \n",
       "13 member        Aug_20 326603          16.83551 mins          \n",
       "14 member        Sep_20 289741          15.55818 mins          \n",
       "15 member        Jul_20 280974          17.76659 mins          \n",
       "16 member        Oct_20 224270          14.18857 mins          \n",
       "17 member        Jun_20 187985          18.73151 mins          \n",
       "18 member        Nov_20 155973          13.73768 mins          \n",
       "19 member        Mar_21 134779          13.98897 mins          \n",
       "20 member        May_20 113218          19.77930 mins          \n",
       "21 member        Dec_20  93032          12.83025 mins          \n",
       "22 member        Jan_21  72291          12.97440 mins          \n",
       "23 member        Apr_20  61115          21.47929 mins          \n",
       "24 member        Feb_21  36357          18.41053 mins          "
      ]
     },
     "metadata": {},
     "output_type": "display_data"
    }
   ],
   "source": [
    "all_trips_v3 %>% \n",
    "  group_by(member_casual, month) %>%  \n",
    "  summarise(number_of_rides = n(),`average_duration_(mins)` = mean(trip_duration)) %>% \n",
    "  arrange(member_casual,desc(number_of_rides))"
   ]
  },
  {
   "cell_type": "code",
   "execution_count": 28,
   "id": "3cc088d4",
   "metadata": {
    "execution": {
     "iopub.execute_input": "2021-10-12T18:14:33.585584Z",
     "iopub.status.busy": "2021-10-12T18:14:33.583343Z",
     "iopub.status.idle": "2021-10-12T18:14:34.933842Z",
     "shell.execute_reply": "2021-10-12T18:14:34.932223Z"
    },
    "papermill": {
     "duration": 1.424746,
     "end_time": "2021-10-12T18:14:34.934004",
     "exception": false,
     "start_time": "2021-10-12T18:14:33.509258",
     "status": "completed"
    },
    "tags": []
   },
   "outputs": [
    {
     "name": "stderr",
     "output_type": "stream",
     "text": [
      "`summarise()` has grouped output by 'member_casual'. You can override using the `.groups` argument.\n",
      "\n"
     ]
    },
    {
     "data": {
      "image/png": "[encoded data removed]"
     },
     "metadata": {
      "image/png": {
       "height": 420,
       "width": 420
      }
     },
     "output_type": "display_data"
    }
   ],
   "source": [
    "#total trips-by customer type  vs month\n",
    "\n",
    "all_trips_v2 %>%  \n",
    "  group_by(member_casual, month) %>% \n",
    "  summarise(number_of_rides = n()) %>% \n",
    "  arrange(member_casual, month)  %>% \n",
    "  ggplot(aes(x = month, y = number_of_rides, fill = member_casual)) +\n",
    "  labs(title =\"Total trips by customer type Vs. Month\") +\n",
    "  theme(axis.text.x = element_text(angle = 30)) +\n",
    "  geom_col(width=0.5, position = position_dodge(width=0.5)) +\n",
    "  scale_y_continuous(labels = function(x) format(x, scientific = FALSE))"
   ]
  },
  {
   "cell_type": "markdown",
   "id": "d85c2821",
   "metadata": {
    "papermill": {
     "duration": 0.071823,
     "end_time": "2021-10-12T18:14:35.078190",
     "exception": false,
     "start_time": "2021-10-12T18:14:35.006367",
     "status": "completed"
    },
    "tags": []
   },
   "source": [
    "The data shows that the months of July, August and September are the most busy time of the year among both members and casual riders.. This could be attributed to an external factor (eg. cold weather, major quality issue) that might have hindered with customer needs. However, the number of trips made by members is always higher than the casual riders across all months of the year."
   ]
  },
  {
   "cell_type": "code",
   "execution_count": 29,
   "id": "6012c94f",
   "metadata": {
    "execution": {
     "iopub.execute_input": "2021-10-12T18:14:35.277511Z",
     "iopub.status.busy": "2021-10-12T18:14:35.275304Z",
     "iopub.status.idle": "2021-10-12T18:14:35.821410Z",
     "shell.execute_reply": "2021-10-12T18:14:35.819497Z"
    },
    "papermill": {
     "duration": 0.671351,
     "end_time": "2021-10-12T18:14:35.821575",
     "exception": false,
     "start_time": "2021-10-12T18:14:35.150224",
     "status": "completed"
    },
    "tags": []
   },
   "outputs": [
    {
     "name": "stderr",
     "output_type": "stream",
     "text": [
      "`summarise()` has grouped output by 'member_casual'. You can override using the `.groups` argument.\n",
      "\n",
      "Don't know how to automatically pick scale for object of type difftime. Defaulting to continuous.\n",
      "\n"
     ]
    },
    {
     "data": {
      "image/png": "[encoded data removed]"
     },
     "metadata": {
      "image/png": {
       "height": 420,
       "width": 420
      }
     },
     "output_type": "display_data"
    }
   ],
   "source": [
    "#Visualizaton of average trip duration by customer type on each day of the week\n",
    "\n",
    "all_trips_v3 %>%  \n",
    "  group_by(member_casual, day_of_week) %>% \n",
    "  summarise(average_trip_duration = mean(trip_duration)) %>%\n",
    "  ggplot(aes(x = day_of_week, y = average_trip_duration, fill = member_casual)) +\n",
    "  geom_col(width=0.5, position = position_dodge(width=0.5)) + \n",
    "  labs(title =\"Average trip duration by customer type Vs. Day of the week\")"
   ]
  },
  {
   "cell_type": "markdown",
   "id": "0b366c19",
   "metadata": {
    "papermill": {
     "duration": 0.074528,
     "end_time": "2021-10-12T18:14:35.970914",
     "exception": false,
     "start_time": "2021-10-12T18:14:35.896386",
     "status": "completed"
    },
    "tags": []
   },
   "source": [
    "-The average trip duration of a casual rider is more than that of a member.\n",
    "It is also interesting to note that weekends not only contribute to more number of trips by casual riders but also the average trip duration."
   ]
  },
  {
   "cell_type": "code",
   "execution_count": 30,
   "id": "57f5bd86",
   "metadata": {
    "execution": {
     "iopub.execute_input": "2021-10-12T18:14:36.126930Z",
     "iopub.status.busy": "2021-10-12T18:14:36.124873Z",
     "iopub.status.idle": "2021-10-12T18:14:36.648301Z",
     "shell.execute_reply": "2021-10-12T18:14:36.646876Z"
    },
    "papermill": {
     "duration": 0.603119,
     "end_time": "2021-10-12T18:14:36.648482",
     "exception": false,
     "start_time": "2021-10-12T18:14:36.045363",
     "status": "completed"
    },
    "tags": []
   },
   "outputs": [
    {
     "name": "stderr",
     "output_type": "stream",
     "text": [
      "`summarise()` has grouped output by 'member_casual'. You can override using the `.groups` argument.\n",
      "\n",
      "Don't know how to automatically pick scale for object of type difftime. Defaulting to continuous.\n",
      "\n"
     ]
    },
    {
     "data": {
      "image/png": "[encoded data removed]"
     },
     "metadata": {
      "image/png": {
       "height": 420,
       "width": 420
      }
     },
     "output_type": "display_data"
    }
   ],
   "source": [
    "#Visualizaton of average trip duration by customer type Vs. month\n",
    "\n",
    "all_trips_v3 %>%  \n",
    "  group_by(member_casual, month) %>% \n",
    "  summarise(average_trip_duration = mean(trip_duration)) %>%\n",
    "  ggplot(aes(x = month, y = average_trip_duration, fill = member_casual)) +\n",
    "  geom_col(width=0.5, position = position_dodge(width=0.5)) + \n",
    "  labs(title =\"Average trip duration by customer type Vs. Month\") +\n",
    "  theme(axis.text.x = element_text(angle = 30))"
   ]
  },
  {
   "cell_type": "markdown",
   "id": "5dbdf4d9",
   "metadata": {
    "papermill": {
     "duration": 0.076895,
     "end_time": "2021-10-12T18:14:36.802211",
     "exception": false,
     "start_time": "2021-10-12T18:14:36.725316",
     "status": "completed"
    },
    "tags": []
   },
   "source": [
    "Average trip duration of member riders is anywhere between 10-20 minutes throughout the year, exception being April when it goes slightly over 20 minutes. However, there seems to be a distinct pattern when it comes to casual riders, whose average trip duration swings wildly from as low as ~25 minutes to more than an hour depending on time of the year. It is worth noting unusually long trip durations by casual riders in the month of April."
   ]
  },
  {
   "cell_type": "code",
   "execution_count": 31,
   "id": "b7262f0f",
   "metadata": {
    "execution": {
     "iopub.execute_input": "2021-10-12T18:14:36.964805Z",
     "iopub.status.busy": "2021-10-12T18:14:36.962712Z",
     "iopub.status.idle": "2021-10-12T18:14:39.336446Z",
     "shell.execute_reply": "2021-10-12T18:14:39.335605Z"
    },
    "papermill": {
     "duration": 2.457552,
     "end_time": "2021-10-12T18:14:39.336621",
     "exception": false,
     "start_time": "2021-10-12T18:14:36.879069",
     "status": "completed"
    },
    "tags": []
   },
   "outputs": [
    {
     "name": "stderr",
     "output_type": "stream",
     "text": [
      "`summarise()` has grouped output by 'member_casual'. You can override using the `.groups` argument.\n",
      "\n"
     ]
    },
    {
     "data": {
      "image/png": "[encoded data removed]"
     },
     "metadata": {
      "image/png": {
       "height": 420,
       "width": 420
      }
     },
     "output_type": "display_data"
    }
   ],
   "source": [
    "#Visualize casual rider's number of ride for each hour of the day \n",
    "all_trips_v3 %>%\n",
    "    mutate(hour_of_day = hour(round_date(started_at, unit =\"hour\"))) %>%\n",
    "   \n",
    "    group_by(member_casual, hour_of_day) %>%\n",
    "    summarise(number_of_ride = n()) %>%\n",
    "    arrange(-number_of_ride) %>%\n",
    "    ggplot(aes(x = hour_of_day, y = number_of_ride, fill = member_casual)) +\n",
    "    geom_bar(position = 'dodge', stat = 'identity') +\n",
    "    scale_x_continuous(breaks=c(0,1,2,3,4,5,6,7,8,9,10,11,12,13,14,15,16,17,18,19,20,21,22,23))\n",
    "\n"
   ]
  },
  {
   "cell_type": "markdown",
   "id": "29dc6caa",
   "metadata": {
    "papermill": {
     "duration": 0.080965,
     "end_time": "2021-10-12T18:14:39.497904",
     "exception": false,
     "start_time": "2021-10-12T18:14:39.416939",
     "status": "completed"
    },
    "tags": []
   },
   "source": [
    "For the members, there seems to be two distict peak demand hours: 7-9 AM and 5-7 PM, the latter one coinciding with the peak demand hours of casual riders as well. One could probably hypothesize that office-goers make up majority of the members profile due to demand in both morning and evening hours."
   ]
  },
  {
   "cell_type": "code",
   "execution_count": 32,
   "id": "e9c46ee7",
   "metadata": {
    "execution": {
     "iopub.execute_input": "2021-10-12T18:14:39.663014Z",
     "iopub.status.busy": "2021-10-12T18:14:39.661690Z",
     "iopub.status.idle": "2021-10-12T18:14:40.089195Z",
     "shell.execute_reply": "2021-10-12T18:14:40.084528Z"
    },
    "papermill": {
     "duration": 0.511115,
     "end_time": "2021-10-12T18:14:40.089466",
     "exception": false,
     "start_time": "2021-10-12T18:14:39.578351",
     "status": "completed"
    },
    "tags": []
   },
   "outputs": [
    {
     "name": "stderr",
     "output_type": "stream",
     "text": [
      "`summarise()` has grouped output by 'rideable_type'. You can override using the `.groups` argument.\n",
      "\n"
     ]
    },
    {
     "data": {
      "image/png": "[encoded data removed]"
     },
     "metadata": {
      "image/png": {
       "height": 420,
       "width": 420
      }
     },
     "output_type": "display_data"
    }
   ],
   "source": [
    "#Visualizaton of ride type Vs. number of trips by customer type\n",
    "\n",
    "all_trips_v3 %>%\n",
    "  group_by(rideable_type, member_casual) %>%\n",
    "  summarise(number_of_trips = n()) %>%  \n",
    "  ggplot(aes(x= rideable_type, y=number_of_trips, fill= member_casual))+\n",
    "              geom_bar(stat='identity') +\n",
    "  scale_y_continuous(labels = function(x) format(x, scientific = FALSE)) +\n",
    "  labs(title =\"Ride type Vs. Number of trips\")"
   ]
  },
  {
   "cell_type": "code",
   "execution_count": 33,
   "id": "09e52190",
   "metadata": {
    "execution": {
     "iopub.execute_input": "2021-10-12T18:14:40.262374Z",
     "iopub.status.busy": "2021-10-12T18:14:40.260997Z",
     "iopub.status.idle": "2021-10-12T18:14:40.503233Z",
     "shell.execute_reply": "2021-10-12T18:14:40.501846Z"
    },
    "papermill": {
     "duration": 0.327117,
     "end_time": "2021-10-12T18:14:40.503395",
     "exception": false,
     "start_time": "2021-10-12T18:14:40.176278",
     "status": "completed"
    },
    "tags": []
   },
   "outputs": [
    {
     "data": {
      "text/html": [
       "<table class=\"dataframe\">\n",
       "<caption>A tibble: 20 × 2</caption>\n",
       "<thead>\n",
       "\t<tr><th scope=col>start_station_name</th><th scope=col>number_of_ride</th></tr>\n",
       "\t<tr><th scope=col>&lt;chr&gt;</th><th scope=col>&lt;int&gt;</th></tr>\n",
       "</thead>\n",
       "<tbody>\n",
       "\t<tr><td><span style=white-space:pre-wrap>Streeter Dr &amp; Grand Ave     </span></td><td>26189</td></tr>\n",
       "\t<tr><td><span style=white-space:pre-wrap>Lake Shore Dr &amp; Monroe St   </span></td><td>20687</td></tr>\n",
       "\t<tr><td>Millennium Park             </td><td>19517</td></tr>\n",
       "\t<tr><td>Theater on the Lake         </td><td>14992</td></tr>\n",
       "\t<tr><td><span style=white-space:pre-wrap>Michigan Ave &amp; Oak St       </span></td><td>13693</td></tr>\n",
       "\t<tr><td><span style=white-space:pre-wrap>Indiana Ave &amp; Roosevelt Rd  </span></td><td>13692</td></tr>\n",
       "\t<tr><td><span style=white-space:pre-wrap>Lake Shore Dr &amp; North Blvd  </span></td><td>13340</td></tr>\n",
       "\t<tr><td><span style=white-space:pre-wrap>Clark St &amp; Elm St           </span></td><td>12032</td></tr>\n",
       "\t<tr><td><span style=white-space:pre-wrap>Michigan Ave &amp; Lake St      </span></td><td>11794</td></tr>\n",
       "\t<tr><td>Michigan Ave &amp; Washington St</td><td>10745</td></tr>\n",
       "\t<tr><td><span style=white-space:pre-wrap>Clark St &amp; Lincoln Ave      </span></td><td>10215</td></tr>\n",
       "\t<tr><td>Buckingham Fountain         </td><td>10039</td></tr>\n",
       "\t<tr><td><span style=white-space:pre-wrap>Wells St &amp; Concord Ln       </span></td><td>10029</td></tr>\n",
       "\t<tr><td><span style=white-space:pre-wrap>Clark St &amp; Armitage Ave     </span></td><td> 9924</td></tr>\n",
       "\t<tr><td>Shedd Aquarium              </td><td> 9838</td></tr>\n",
       "\t<tr><td><span style=white-space:pre-wrap>Wabash Ave &amp; Grand Ave      </span></td><td> 9801</td></tr>\n",
       "\t<tr><td><span style=white-space:pre-wrap>Michigan Ave &amp; 8th St       </span></td><td> 9775</td></tr>\n",
       "\t<tr><td><span style=white-space:pre-wrap>Columbus Dr &amp; Randolph St   </span></td><td> 9519</td></tr>\n",
       "\t<tr><td><span style=white-space:pre-wrap>Wells St &amp; Elm St           </span></td><td> 9281</td></tr>\n",
       "\t<tr><td><span style=white-space:pre-wrap>Fairbanks Ct &amp; Grand Ave    </span></td><td> 9059</td></tr>\n",
       "</tbody>\n",
       "</table>\n"
      ],
      "text/latex": [
       "A tibble: 20 × 2\n",
       "\\begin{tabular}{ll}\n",
       " start\\_station\\_name & number\\_of\\_ride\\\\\n",
       " <chr> & <int>\\\\\n",
       "\\hline\n",
       "\t Streeter Dr \\& Grand Ave      & 26189\\\\\n",
       "\t Lake Shore Dr \\& Monroe St    & 20687\\\\\n",
       "\t Millennium Park              & 19517\\\\\n",
       "\t Theater on the Lake          & 14992\\\\\n",
       "\t Michigan Ave \\& Oak St        & 13693\\\\\n",
       "\t Indiana Ave \\& Roosevelt Rd   & 13692\\\\\n",
       "\t Lake Shore Dr \\& North Blvd   & 13340\\\\\n",
       "\t Clark St \\& Elm St            & 12032\\\\\n",
       "\t Michigan Ave \\& Lake St       & 11794\\\\\n",
       "\t Michigan Ave \\& Washington St & 10745\\\\\n",
       "\t Clark St \\& Lincoln Ave       & 10215\\\\\n",
       "\t Buckingham Fountain          & 10039\\\\\n",
       "\t Wells St \\& Concord Ln        & 10029\\\\\n",
       "\t Clark St \\& Armitage Ave      &  9924\\\\\n",
       "\t Shedd Aquarium               &  9838\\\\\n",
       "\t Wabash Ave \\& Grand Ave       &  9801\\\\\n",
       "\t Michigan Ave \\& 8th St        &  9775\\\\\n",
       "\t Columbus Dr \\& Randolph St    &  9519\\\\\n",
       "\t Wells St \\& Elm St            &  9281\\\\\n",
       "\t Fairbanks Ct \\& Grand Ave     &  9059\\\\\n",
       "\\end{tabular}\n"
      ],
      "text/markdown": [
       "\n",
       "A tibble: 20 × 2\n",
       "\n",
       "| start_station_name &lt;chr&gt; | number_of_ride &lt;int&gt; |\n",
       "|---|---|\n",
       "| Streeter Dr &amp; Grand Ave      | 26189 |\n",
       "| Lake Shore Dr &amp; Monroe St    | 20687 |\n",
       "| Millennium Park              | 19517 |\n",
       "| Theater on the Lake          | 14992 |\n",
       "| Michigan Ave &amp; Oak St        | 13693 |\n",
       "| Indiana Ave &amp; Roosevelt Rd   | 13692 |\n",
       "| Lake Shore Dr &amp; North Blvd   | 13340 |\n",
       "| Clark St &amp; Elm St            | 12032 |\n",
       "| Michigan Ave &amp; Lake St       | 11794 |\n",
       "| Michigan Ave &amp; Washington St | 10745 |\n",
       "| Clark St &amp; Lincoln Ave       | 10215 |\n",
       "| Buckingham Fountain          | 10039 |\n",
       "| Wells St &amp; Concord Ln        | 10029 |\n",
       "| Clark St &amp; Armitage Ave      |  9924 |\n",
       "| Shedd Aquarium               |  9838 |\n",
       "| Wabash Ave &amp; Grand Ave       |  9801 |\n",
       "| Michigan Ave &amp; 8th St        |  9775 |\n",
       "| Columbus Dr &amp; Randolph St    |  9519 |\n",
       "| Wells St &amp; Elm St            |  9281 |\n",
       "| Fairbanks Ct &amp; Grand Ave     |  9059 |\n",
       "\n"
      ],
      "text/plain": [
       "   start_station_name           number_of_ride\n",
       "1  Streeter Dr & Grand Ave      26189         \n",
       "2  Lake Shore Dr & Monroe St    20687         \n",
       "3  Millennium Park              19517         \n",
       "4  Theater on the Lake          14992         \n",
       "5  Michigan Ave & Oak St        13693         \n",
       "6  Indiana Ave & Roosevelt Rd   13692         \n",
       "7  Lake Shore Dr & North Blvd   13340         \n",
       "8  Clark St & Elm St            12032         \n",
       "9  Michigan Ave & Lake St       11794         \n",
       "10 Michigan Ave & Washington St 10745         \n",
       "11 Clark St & Lincoln Ave       10215         \n",
       "12 Buckingham Fountain          10039         \n",
       "13 Wells St & Concord Ln        10029         \n",
       "14 Clark St & Armitage Ave       9924         \n",
       "15 Shedd Aquarium                9838         \n",
       "16 Wabash Ave & Grand Ave        9801         \n",
       "17 Michigan Ave & 8th St         9775         \n",
       "18 Columbus Dr & Randolph St     9519         \n",
       "19 Wells St & Elm St             9281         \n",
       "20 Fairbanks Ct & Grand Ave      9059         "
      ]
     },
     "metadata": {},
     "output_type": "display_data"
    }
   ],
   "source": [
    "#Top 20 start stations for casual riders.\n",
    "\n",
    "all_trips_v3 %>%\n",
    "    group_by(start_station_name, member_casual) %>%\n",
    "    summarise(number_of_ride = n(), .groups = 'drop') %>%\n",
    "    filter(start_station_name != \"\", member_casual != 'member') %>%\n",
    "    arrange(-number_of_ride) %>%\n",
    "    head(n=20) %>%\n",
    "    select(-member_casual)"
   ]
  },
  {
   "cell_type": "markdown",
   "id": "d742379d",
   "metadata": {
    "papermill": {
     "duration": 0.082009,
     "end_time": "2021-10-12T18:14:40.666533",
     "exception": false,
     "start_time": "2021-10-12T18:14:40.584524",
     "status": "completed"
    },
    "tags": []
   },
   "source": [
    "<h3>Act</h3>\n",
    "\n",
    "<h4> Key Takeaways </h4>\n",
    "\n",
    "- Usuage of bikes based on trip duration by casual riders are almost twice than memeber riders.<br>\n",
    "- Casual riders use bike services more during weekends where as member riders use them consistenly over the week.<br>\n",
    "- Average trip duration of casual riders are more than twice that of member riders in any given day of the week.<br>\n",
    "- Casual riders prefer docked bikes the most while classic bikes are popular among members.<br>\n"
   ]
  },
  {
   "cell_type": "markdown",
   "id": "ff25b3dd",
   "metadata": {
    "papermill": {
     "duration": 0.081856,
     "end_time": "2021-10-12T18:14:40.830253",
     "exception": false,
     "start_time": "2021-10-12T18:14:40.748397",
     "status": "completed"
    },
    "tags": []
   },
   "source": [
    "\n",
    "<h4>Conclusions</h4>\n",
    "\n",
    "- Members use the bikes more frequently, for shorter durations, and relatively consistently throughout the year. They tend to use the bikes within the city/away from the waterfront compared to casual users.<br>\n",
    "- Casual riders use the bikes less frequently but for longer durations, primarily in warmer weather months. They tend to use the bikes along the waterfront rather than within the city.<br>"
   ]
  },
  {
   "cell_type": "markdown",
   "id": "b98bc285",
   "metadata": {
    "papermill": {
     "duration": 0.079797,
     "end_time": "2021-10-12T18:14:40.991341",
     "exception": false,
     "start_time": "2021-10-12T18:14:40.911544",
     "status": "completed"
    },
    "tags": []
   },
   "source": [
    "<h4>Recommendations </h4>\n",
    "\n",
    "- Provide attractive promotions and discouts on bike fares for casual riders on weekdays so that casual members use the bikeshare services ore uniformly across the entire week.<br>\n",
    "- Run a limited discount program on annual membership during peek months from July - September.<br>\n",
    "- Target the top 20 stations with the most casual riders with discounted membership offers.</br>\n",
    "- Have physical copies of posters or ads available with membership promotion details at the docking stations. Target to play any digital ads during the peak bike demand hours.</br>"
   ]
  },
  {
   "cell_type": "markdown",
   "id": "4b75781b",
   "metadata": {
    "papermill": {
     "duration": 0.081864,
     "end_time": "2021-10-12T18:14:41.155120",
     "exception": false,
     "start_time": "2021-10-12T18:14:41.073256",
     "status": "completed"
    },
    "tags": []
   },
   "source": [
    "**Additional recommendations**\n",
    "\n",
    "- Provide a weekend discount program that gives casual riders x% off on their next ride if they ride over 30 minutes.<br>\n",
    "- Run a Referaal program where membership riders will be getting a compensation of a certain for referring to casual rider where casual riders gets a x% discount on annual package.\n",
    "- Membership riders will be getting insurance upto 100% where as casual riders will be getting upto 30% incase any accidents  "
   ]
  }
 ],
 "metadata": {
  "kernelspec": {
   "display_name": "R",
   "language": "R",
   "name": "ir"
  },
  "language_info": {
   "codemirror_mode": "r",
   "file_extension": ".r",
   "mimetype": "text/x-r-source",
   "name": "R",
   "pygments_lexer": "r",
   "version": "4.0.5"
  },
  "papermill": {
   "default_parameters": {},
   "duration": 134.037955,
   "end_time": "2021-10-12T18:14:41.447754",
   "environment_variables": {},
   "exception": null,
   "input_path": "__notebook__.ipynb",
   "output_path": "__notebook__.ipynb",
   "parameters": {},
   "start_time": "2021-10-12T18:12:27.409799",
   "version": "2.3.3"
  }
 },
 "nbformat": 4,
 "nbformat_minor": 5
}
